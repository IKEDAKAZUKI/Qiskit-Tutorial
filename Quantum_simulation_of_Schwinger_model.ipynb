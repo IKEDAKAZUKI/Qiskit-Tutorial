{
  "nbformat": 4,
  "nbformat_minor": 0,
  "metadata": {
    "colab": {
      "provenance": [],
      "toc_visible": true,
      "authorship_tag": "ABX9TyMR2e5/QRAXtuAkW4Q9MyIo",
      "include_colab_link": true
    },
    "kernelspec": {
      "name": "python3",
      "display_name": "Python 3"
    },
    "language_info": {
      "name": "python"
    }
  },
  "cells": [
    {
      "cell_type": "markdown",
      "metadata": {
        "id": "view-in-github",
        "colab_type": "text"
      },
      "source": [
        "<a href=\"https://colab.research.google.com/github/IKEDAKAZUKI/Qiskit-Tutorial/blob/main/Quantum_simulation_of_Schwinger_model.ipynb\" target=\"_parent\"><img src=\"https://colab.research.google.com/assets/colab-badge.svg\" alt=\"Open In Colab\"/></a>"
      ]
    },
    {
      "cell_type": "markdown",
      "source": [
        "# Quantum simulation of the Schwinger model by Kazuki Ikeda at Stony Brook University"
      ],
      "metadata": {
        "id": "kpzqkWToDSLK"
      }
    },
    {
      "cell_type": "markdown",
      "source": [
        "I give a lecture on quantu simulation of the massive Schwinger model with topological term with IBM Qiskit.\n",
        "\n",
        "More projects are provied in my [website](https://kazukiikeda.studio.site/)\n",
        "\n",
        "More detailed research are provided in the following papers\n",
        "1. K. Ikeda, D. Kharzeev, Y. Kikuchi, \"Real-time dynamics of Chern-Simons fluctuations near a critical point\n",
        "\" [Phys. Rev. D 103, L071502](https://journals.aps.org/prd/abstract/10.1103/PhysRevD.103.L071502)\n",
        "\n",
        "2. A. Florio, D. Frenklakh, K. Ikeda, D. Kharzeev, V. Korepin, S. Shi, K. Yu, \"Real-time non-perturbative dynamics of jet production: quantum entanglement and vacuum modification\", [arXiv:2301.11991](https://arxiv.org/abs/2301.11991)"
      ],
      "metadata": {
        "id": "eHVdcHbq0LeP"
      }
    },
    {
      "cell_type": "markdown",
      "source": [
        "## Schwinger model"
      ],
      "metadata": {
        "id": "gT1H8mXDvMbM"
      }
    },
    {
      "cell_type": "markdown",
      "source": [
        "### Lagrangian\n",
        "The Schwinger model is a 1+1 dimensional $U(1)$ gauge theory. It is widely recognized as a testbed for quantum simulations of high energy physics (QCD).\n",
        "\n",
        "Here we provide the most general Lagrangian of the massive Schwinger model with the background electric field.\n",
        "\n",
        "The Lagrangian density of the Schwinger model is given as \n",
        "\\begin{equation}\n",
        "    \\mathcal{L} = -\\frac{1}{4}F_{\\mu\\nu}F^{\\mu\\nu}+\\bar{\\psi}(i\\gamma^\\mu\\partial_\\mu-g\\gamma^\\mu A_\\mu-m)\\psi+\\frac{g\\theta}{4\\pi}\\epsilon^{\\mu\\nu}F_{\\mu\\nu}. \n",
        "\\end{equation}\n",
        "Therefore the action is \n",
        "$$S=\\int d^2x\\mathcal{L}.$$\n",
        "\n",
        "We respectively denote the Pauli matrices as $X$, $Y$, and $Z$, and use the following gamma matrices $\\gamma^0 = Z$, $\\gamma^1 = i\\,Y$, $\\gamma^5=\\gamma^0 \\gamma^1 = X$. The phase diagram of the Schwinger model is as shown below.\n",
        "\n",
        "![phase diagram](https://drive.google.com/uc?id=165_mlI7V8UK1srFyXUXikN6FWBmS4h1C)\n",
        "\n",
        "### Lattice Hamiltonian\n",
        "We work with the temporal gauge, $A_0=0$. From the action, the canonical momentum conjugate to $A_1$ can be read off as $\\Pi = \\dot{A}_1$. The corresponding Hamiltonian is then given by\n",
        "\\begin{align}\n",
        " H &= \\int dx \\left[\\frac{1}{2}\\Pi^2\n",
        " -\\bar{\\psi}(i \\gamma^1D_1 -me^{i\\gamma_5\\theta})\\psi\\right],\n",
        "\\end{align}\n",
        "with commutation relations $[A_1(x),\\Pi(y)]=i\\delta(x-y)$, and $\\{\\psi(x),\\bar{\\psi}(y)\\}=\\gamma_0\\delta(x-y)$.\n",
        "\n",
        "For quantum simulation, we discretize the space-time coordinate and work with the lattice Hamiltonian. \n",
        "\n",
        "We first convert a two-component Dirac fermion $\\psi=(\\psi^1,\\psi^2)^T$ into to a staggered fermion\n",
        "\\begin{equation}\n",
        "    \\psi_1(x)\\to\\frac{\\chi_{2n}}{\\sqrt{a}},~\\psi_2(x)\\to\\frac{\\chi_{2n+1}}{\\sqrt{a}},\n",
        "\\end{equation}\n",
        "where $a$ is the finite lattice spacing. \n",
        "\n",
        " The gauge fields are replaced by $e^{-iagA_1}\\to U_n$ and $\\Pi\\to -gL_n$, that are placed on a link between $n$th and $(n+1)$st sites. The resulting lattice Hamiltonian is\n",
        "\\begin{align}\n",
        " H &= \\frac{a g^2}{2}\\sum_{n=1}^{N-1} L_n^2\n",
        " -\\frac{i}{2a}\\sum_{n=1}^{N-1}\n",
        " \\big[\\chi^\\dagger_{n+1} U_n\\chi_{n}-\\chi^\\dagger_{n}U_n^\\dagger\\chi_{n+1}\\big]\n",
        " \\nonumber\\\\\n",
        " &+ m\\cos\\theta\\sum_{n=1}^{N} (-1)^n \\chi^\\dagger_n\\chi_n\n",
        " \\nonumber\\\\\n",
        " &+ i\\frac{m\\sin\\theta}{2}\\sum_{n=1}^{N-1} (-1)^n \\big[\\chi^\\dagger_{n+1} U_n\\chi_{n}-\\chi^\\dagger_{n}U_n^\\dagger\\chi_{n+1}\\big],\n",
        "\\end{align}\n",
        "with the Gauss law constraint:\n",
        "\\begin{equation}\n",
        "L_{n+1}-L_n=\\chi_n^\\dagger\\chi_n- \\frac{1-(-1)^n}{2}. \n",
        "\\end{equation}\n",
        "\n",
        "### Spin Hamiltonian\n",
        "For quantum simulation we translate the staggard fermions into Pauli matrices $X,Y,Z$.  This can be done by the Jordan-Wigner transformation\n",
        "\\begin{align}\n",
        "\\begin{aligned}\n",
        " \\chi_n &=\\frac{X_n-iY_n}{2}\\prod_{j=1}^{n-1}(-i Z_j),\\\\\n",
        " \\chi^\\dagger_n &=\\frac{X_n+iY_n}{2}\\prod_{j=1}^{n-1}(i Z_j),\n",
        "\\end{aligned}\n",
        "\\end{align}\n",
        "and we obtain the spin representation of the Hamiltonian\n",
        "\\begin{align}\n",
        "\\begin{aligned}\n",
        "H=&\\sum_{n=1}^{N-1}\n",
        "    \\left(\\frac{1}{4a}-\\frac{m}{4}(-1)^n\\sin\\theta\\right)\n",
        "    \\left(X_n X_{n+1}+Y_n Y_{n+1}\\right)\\\\\n",
        "&+\\sum_{n=1}^{N}\\frac{m(-1)^n\\cos\\theta}{2} Z_n+\\frac{ag^2}{2}\\sum_{n=0}^{N}L^2_n.\n",
        "\\end{aligned}\n",
        "\\end{align}\n",
        "With the boundary condition $L_0=0$, the Gauss' law constraint leads to the solution\n",
        "\\begin{align}\n",
        "    L_n =  a\\sum_{j=1}^n Q_j,\n",
        "\\end{align}\n",
        "where $Q_j$ is the local vector charge\n",
        "\\begin{align}\n",
        "    Q_j = \\bar{\\psi}\\gamma^0\\psi = \\frac{Z_j+(-1)^j}{2a}.\n",
        "\\end{align}"
      ],
      "metadata": {
        "id": "Pe8X_ZZyvihf"
      }
    },
    {
      "cell_type": "markdown",
      "source": [
        "## Quantum simulation of the Schwinger model\n",
        "\n",
        "We will address  \n",
        "- Implementation of the Hamltonian\n",
        "- Static case: a simple time-evolution of the initial state.  \n",
        "- Adiabatic state preparation of the ground state of the Schwinger model.\n",
        "- Demonstration of phase transition by gradually changing the $\\theta$-term.   "
      ],
      "metadata": {
        "id": "0LIc8Dy6xfNA"
      }
    },
    {
      "cell_type": "markdown",
      "source": [
        "# Install Qiskit and packages"
      ],
      "metadata": {
        "id": "lBhs1DLrrQ83"
      }
    },
    {
      "cell_type": "markdown",
      "source": [
        "If Qiskit is not installed, please install it."
      ],
      "metadata": {
        "id": "X46GF96OaFPh"
      }
    },
    {
      "cell_type": "code",
      "execution_count": 1,
      "metadata": {
        "colab": {
          "base_uri": "https://localhost:8080/"
        },
        "id": "FucTN8dILHOH",
        "outputId": "4f6fe02c-c868-49bf-ec47-1e6e55ae5689"
      },
      "outputs": [
        {
          "output_type": "stream",
          "name": "stdout",
          "text": [
            "Looking in indexes: https://pypi.org/simple, https://us-python.pkg.dev/colab-wheels/public/simple/\n",
            "Collecting qiskit\n",
            "  Downloading qiskit-0.42.1.tar.gz (14 kB)\n",
            "  Preparing metadata (setup.py) ... \u001b[?25l\u001b[?25hdone\n",
            "Collecting qiskit-terra==0.23.3\n",
            "  Downloading qiskit_terra-0.23.3-cp39-cp39-manylinux_2_17_x86_64.manylinux2014_x86_64.whl (5.1 MB)\n",
            "\u001b[2K     \u001b[90m━━━━━━━━━━━━━━━━━━━━━━━━━━━━━━━━━━━━━━━━\u001b[0m \u001b[32m5.1/5.1 MB\u001b[0m \u001b[31m56.0 MB/s\u001b[0m eta \u001b[36m0:00:00\u001b[0m\n",
            "\u001b[?25hCollecting qiskit-aer==0.12.0\n",
            "  Downloading qiskit_aer-0.12.0-cp39-cp39-manylinux_2_17_x86_64.manylinux2014_x86_64.whl (12.8 MB)\n",
            "\u001b[2K     \u001b[90m━━━━━━━━━━━━━━━━━━━━━━━━━━━━━━━━━━━━━━━━\u001b[0m \u001b[32m12.8/12.8 MB\u001b[0m \u001b[31m23.6 MB/s\u001b[0m eta \u001b[36m0:00:00\u001b[0m\n",
            "\u001b[?25hCollecting qiskit-ibmq-provider==0.20.2\n",
            "  Downloading qiskit_ibmq_provider-0.20.2-py3-none-any.whl (241 kB)\n",
            "\u001b[2K     \u001b[90m━━━━━━━━━━━━━━━━━━━━━━━━━━━━━━━━━━━━━━━\u001b[0m \u001b[32m241.5/241.5 KB\u001b[0m \u001b[31m4.6 MB/s\u001b[0m eta \u001b[36m0:00:00\u001b[0m\n",
            "\u001b[?25hRequirement already satisfied: scipy>=1.0 in /usr/local/lib/python3.9/dist-packages (from qiskit-aer==0.12.0->qiskit) (1.10.1)\n",
            "Requirement already satisfied: numpy>=1.16.3 in /usr/local/lib/python3.9/dist-packages (from qiskit-aer==0.12.0->qiskit) (1.22.4)\n",
            "Collecting websockets>=10.0\n",
            "  Downloading websockets-10.4-cp39-cp39-manylinux_2_5_x86_64.manylinux1_x86_64.manylinux_2_17_x86_64.manylinux2014_x86_64.whl (106 kB)\n",
            "\u001b[2K     \u001b[90m━━━━━━━━━━━━━━━━━━━━━━━━━━━━━━━━━━━━━━━\u001b[0m \u001b[32m106.5/106.5 KB\u001b[0m \u001b[31m5.0 MB/s\u001b[0m eta \u001b[36m0:00:00\u001b[0m\n",
            "\u001b[?25hRequirement already satisfied: python-dateutil>=2.8.0 in /usr/local/lib/python3.9/dist-packages (from qiskit-ibmq-provider==0.20.2->qiskit) (2.8.2)\n",
            "Collecting requests-ntlm<=1.1.0\n",
            "  Downloading requests_ntlm-1.1.0-py2.py3-none-any.whl (5.7 kB)\n",
            "Requirement already satisfied: requests>=2.19 in /usr/local/lib/python3.9/dist-packages (from qiskit-ibmq-provider==0.20.2->qiskit) (2.27.1)\n",
            "Collecting websocket-client>=1.5.1\n",
            "  Downloading websocket_client-1.5.1-py3-none-any.whl (55 kB)\n",
            "\u001b[2K     \u001b[90m━━━━━━━━━━━━━━━━━━━━━━━━━━━━━━━━━━━━━━━━\u001b[0m \u001b[32m55.9/55.9 KB\u001b[0m \u001b[31m2.1 MB/s\u001b[0m eta \u001b[36m0:00:00\u001b[0m\n",
            "\u001b[?25hRequirement already satisfied: urllib3>=1.21.1 in /usr/local/lib/python3.9/dist-packages (from qiskit-ibmq-provider==0.20.2->qiskit) (1.26.15)\n",
            "Collecting ply>=3.10\n",
            "  Downloading ply-3.11-py2.py3-none-any.whl (49 kB)\n",
            "\u001b[2K     \u001b[90m━━━━━━━━━━━━━━━━━━━━━━━━━━━━━━━━━━━━━━━━\u001b[0m \u001b[32m49.6/49.6 KB\u001b[0m \u001b[31m2.7 MB/s\u001b[0m eta \u001b[36m0:00:00\u001b[0m\n",
            "\u001b[?25hRequirement already satisfied: psutil>=5 in /usr/local/lib/python3.9/dist-packages (from qiskit-terra==0.23.3->qiskit) (5.9.4)\n",
            "Requirement already satisfied: sympy>=1.3 in /usr/local/lib/python3.9/dist-packages (from qiskit-terra==0.23.3->qiskit) (1.11.1)\n",
            "Collecting symengine>=0.9\n",
            "  Downloading symengine-0.9.2-cp39-cp39-manylinux2010_x86_64.whl (37.5 MB)\n",
            "\u001b[2K     \u001b[90m━━━━━━━━━━━━━━━━━━━━━━━━━━━━━━━━━━━━━━━━\u001b[0m \u001b[32m37.5/37.5 MB\u001b[0m \u001b[31m11.4 MB/s\u001b[0m eta \u001b[36m0:00:00\u001b[0m\n",
            "\u001b[?25hCollecting stevedore>=3.0.0\n",
            "  Downloading stevedore-5.0.0-py3-none-any.whl (49 kB)\n",
            "\u001b[2K     \u001b[90m━━━━━━━━━━━━━━━━━━━━━━━━━━━━━━━━━━━━━━━━\u001b[0m \u001b[32m49.6/49.6 KB\u001b[0m \u001b[31m2.1 MB/s\u001b[0m eta \u001b[36m0:00:00\u001b[0m\n",
            "\u001b[?25hCollecting dill>=0.3\n",
            "  Downloading dill-0.3.6-py3-none-any.whl (110 kB)\n",
            "\u001b[2K     \u001b[90m━━━━━━━━━━━━━━━━━━━━━━━━━━━━━━━━━━━━━━━\u001b[0m \u001b[32m110.5/110.5 KB\u001b[0m \u001b[31m2.6 MB/s\u001b[0m eta \u001b[36m0:00:00\u001b[0m\n",
            "\u001b[?25hCollecting rustworkx>=0.12.0\n",
            "  Downloading rustworkx-0.12.1-cp39-cp39-manylinux_2_17_x86_64.manylinux2014_x86_64.whl (1.9 MB)\n",
            "\u001b[2K     \u001b[90m━━━━━━━━━━━━━━━━━━━━━━━━━━━━━━━━━━━━━━━━\u001b[0m \u001b[32m1.9/1.9 MB\u001b[0m \u001b[31m26.0 MB/s\u001b[0m eta \u001b[36m0:00:00\u001b[0m\n",
            "\u001b[?25hRequirement already satisfied: six>=1.5 in /usr/local/lib/python3.9/dist-packages (from python-dateutil>=2.8.0->qiskit-ibmq-provider==0.20.2->qiskit) (1.16.0)\n",
            "Requirement already satisfied: certifi>=2017.4.17 in /usr/local/lib/python3.9/dist-packages (from requests>=2.19->qiskit-ibmq-provider==0.20.2->qiskit) (2022.12.7)\n",
            "Requirement already satisfied: charset-normalizer~=2.0.0 in /usr/local/lib/python3.9/dist-packages (from requests>=2.19->qiskit-ibmq-provider==0.20.2->qiskit) (2.0.12)\n",
            "Requirement already satisfied: idna<4,>=2.5 in /usr/local/lib/python3.9/dist-packages (from requests>=2.19->qiskit-ibmq-provider==0.20.2->qiskit) (3.4)\n",
            "Collecting cryptography>=1.3\n",
            "  Downloading cryptography-39.0.2-cp36-abi3-manylinux_2_28_x86_64.whl (4.2 MB)\n",
            "\u001b[2K     \u001b[90m━━━━━━━━━━━━━━━━━━━━━━━━━━━━━━━━━━━━━━━━\u001b[0m \u001b[32m4.2/4.2 MB\u001b[0m \u001b[31m22.1 MB/s\u001b[0m eta \u001b[36m0:00:00\u001b[0m\n",
            "\u001b[?25hCollecting ntlm-auth>=1.0.2\n",
            "  Downloading ntlm_auth-1.5.0-py2.py3-none-any.whl (29 kB)\n",
            "Collecting pbr!=2.1.0,>=2.0.0\n",
            "  Downloading pbr-5.11.1-py2.py3-none-any.whl (112 kB)\n",
            "\u001b[2K     \u001b[90m━━━━━━━━━━━━━━━━━━━━━━━━━━━━━━━━━━━━━━━\u001b[0m \u001b[32m112.7/112.7 KB\u001b[0m \u001b[31m3.3 MB/s\u001b[0m eta \u001b[36m0:00:00\u001b[0m\n",
            "\u001b[?25hRequirement already satisfied: mpmath>=0.19 in /usr/local/lib/python3.9/dist-packages (from sympy>=1.3->qiskit-terra==0.23.3->qiskit) (1.3.0)\n",
            "Requirement already satisfied: cffi>=1.12 in /usr/local/lib/python3.9/dist-packages (from cryptography>=1.3->requests-ntlm<=1.1.0->qiskit-ibmq-provider==0.20.2->qiskit) (1.15.1)\n",
            "Requirement already satisfied: pycparser in /usr/local/lib/python3.9/dist-packages (from cffi>=1.12->cryptography>=1.3->requests-ntlm<=1.1.0->qiskit-ibmq-provider==0.20.2->qiskit) (2.21)\n",
            "Building wheels for collected packages: qiskit\n",
            "  Building wheel for qiskit (setup.py) ... \u001b[?25l\u001b[?25hdone\n",
            "  Created wheel for qiskit: filename=qiskit-0.42.1-py3-none-any.whl size=12938 sha256=fdca22f05c8a358b723b9bd5a4f6f6ee93483640b21770d331b84cc96d434fb0\n",
            "  Stored in directory: /root/.cache/pip/wheels/40/64/74/29c046bda04fd60f3f6b2e244fa85b70f219e363fc3373f541\n",
            "Successfully built qiskit\n",
            "Installing collected packages: ply, websockets, websocket-client, symengine, rustworkx, pbr, ntlm-auth, dill, stevedore, cryptography, requests-ntlm, qiskit-terra, qiskit-ibmq-provider, qiskit-aer, qiskit\n",
            "Successfully installed cryptography-39.0.2 dill-0.3.6 ntlm-auth-1.5.0 pbr-5.11.1 ply-3.11 qiskit-0.42.1 qiskit-aer-0.12.0 qiskit-ibmq-provider-0.20.2 qiskit-terra-0.23.3 requests-ntlm-1.1.0 rustworkx-0.12.1 stevedore-5.0.0 symengine-0.9.2 websocket-client-1.5.1 websockets-10.4\n"
          ]
        }
      ],
      "source": [
        "pip install qiskit"
      ]
    },
    {
      "cell_type": "code",
      "source": [
        "import numpy as np\n",
        "import matplotlib.pyplot as plt \n",
        "from qiskit import * #qiskit\n",
        "from qiskit.visualization import plot_histogram, plot_bloch_multivector, array_to_latex\n",
        "from qiskit.extensions import Initialize\n",
        "from qiskit import QuantumCircuit, QuantumRegister, transpile, execute, Aer, BasicAer\n",
        "from qiskit.quantum_info import random_statevector\n",
        "from qiskit.quantum_info import partial_trace, entropy\n",
        "import qiskit.quantum_info as qi"
      ],
      "metadata": {
        "id": "NHFIIsn4EZpO"
      },
      "execution_count": 2,
      "outputs": []
    },
    {
      "cell_type": "markdown",
      "source": [
        "We first get the simulator."
      ],
      "metadata": {
        "id": "vl8Edh7-Equ2"
      }
    },
    {
      "cell_type": "code",
      "source": [
        "simulator = Aer.get_backend('qasm_simulator')"
      ],
      "metadata": {
        "id": "ZgA4_XmtzxjP"
      },
      "execution_count": 3,
      "outputs": []
    },
    {
      "cell_type": "markdown",
      "source": [
        "# Basic operators and notations"
      ],
      "metadata": {
        "id": "VzX0Ho2vTjOt"
      }
    },
    {
      "cell_type": "markdown",
      "source": [
        "In what follows, we explain basic operators, measurement, Bell states, reduced dencity matrices, the entanglement entropy. \n",
        "\n",
        "You can learn how to execute circuits using \"qasm_simulator\" and state vector simulator \"aer_simulator_statevector\". "
      ],
      "metadata": {
        "id": "i8UkHzlLmna-"
      }
    },
    {
      "cell_type": "markdown",
      "source": [
        "- Computational basis\n",
        "$Z|0\\rangle=+|0\\rangle, Z|1\\rangle=-|1\\rangle$\n",
        "$$ |0\\rangle=\\begin{pmatrix}1\\\\0\\end{pmatrix},\\quad|1\\rangle=\\begin{pmatrix}0\\\\1\\end{pmatrix} $$\n",
        "\n",
        "- $X$-basis\n",
        "$X|+\\rangle=+|+\\rangle, X|-\\rangle=-|-\\rangle$\n",
        "$$ |+\\rangle=\\frac{1}{\\sqrt{2}}(|0\\rangle+|1\\rangle),|-\\rangle=\\frac{1}{\\sqrt{2}}(|0\\rangle-|1\\rangle), $$\n",
        "\n",
        "- 1-qubit operators \n",
        "$$X=\\begin{pmatrix}0&1\\\\1&0\\end{pmatrix},\\quad Y=\\begin{pmatrix}0&-i\\\\i&0\\end{pmatrix},\\quad Z=\\begin{pmatrix}1&0\\\\0&-1\\end{pmatrix}$$\n",
        "\n",
        "- 2-qubit operator \n",
        "$\\text{CNOT}=|0\\rangle\\langle0|\\otimes I+|1\\rangle\\langle1|\\otimes X$. \n",
        "\n",
        "The gate set $\\{X,Y,Z,CNOT\\}$ is a universal gate set; any unitary operator can be approximated by those operators."
      ],
      "metadata": {
        "id": "i4x-KkjcTsmG"
      }
    },
    {
      "cell_type": "markdown",
      "source": [
        "Other useful operators\n",
        "- Hadamard gate $H=\\frac{1}{\\sqrt{2}}\\begin{pmatrix}1&1\\\\1&-1\\end{pmatrix}$\n",
        "- Rotation gates $e^{-i\\alpha X/2},e^{-i\\alpha Y/2},e^{-i\\alpha Z/2}$"
      ],
      "metadata": {
        "id": "hOyJQhOIW8FY"
      }
    },
    {
      "cell_type": "markdown",
      "source": [
        "The Initial state of the default qubit is $|0\\rangle$. This can be conformed by the following circuit and measurment. "
      ],
      "metadata": {
        "id": "p-ubegw3XxnC"
      }
    },
    {
      "cell_type": "markdown",
      "source": [
        "# Implementing the massive Schwinger model (Static Hamiltonian)"
      ],
      "metadata": {
        "id": "ar--SJjE-0S2"
      }
    },
    {
      "cell_type": "markdown",
      "source": [
        "In what follows we demonstrate quantum simulation of the massive Schwinger model\n",
        "We first consider time-evolution with the **static Hamiltonian**. \n",
        "\n",
        "You can learn implementation of a time-ordered integral, Suzuki-Trotter decomposition, dynamics after a quench, computation of magnetization.  \n",
        " "
      ],
      "metadata": {
        "id": "FXYKur6xuwdV"
      }
    },
    {
      "cell_type": "markdown",
      "source": [
        "As we explained previously, our Hamiltonian is \n",
        "\\begin{align}\n",
        "\\begin{aligned}\n",
        "H=&\\sum_{n=1}^{N-1}\n",
        "    \\left(\\frac{1}{4a}-\\frac{m}{4}(-1)^n\\sin\\theta\\right)\n",
        "    \\left(X_n X_{n+1}+Y_n Y_{n+1}\\right)\\\\\n",
        "&+\\sum_{n=1}^{N}\\frac{m(-1)^{n}\\cos\\theta}{2} Z_n+\\frac{ag^2}{2}\\sum_{n=1}^{N}L^2_n\n",
        "\\end{aligned}\n",
        "\\end{align}\n",
        "where \n",
        "\\begin{align}\n",
        "    L_n& =  a\\sum_{j=1}^n Q_j,\\\\\n",
        "    Q_n& = \\bar{\\psi}\\gamma^0\\psi = \\frac{Z_n+(-1)^n}{2a}.\n",
        "\\end{align}\n",
        "\n",
        "\n",
        "We use $|0101\\cdots01\\rangle$ as the initial satte, which is the ground state of the model at the large mass limit $m\\to\\infty$ when $\\theta=0$.\n",
        "\n",
        "We consider time evolution of the chiral condensate $\\frac{1}{N}\\sum_{n=1}^{N}\\bar{\\psi}_n\\psi_n=\\frac{1}{2aN}\\sum_{j=1}^{N}(-1)^jZ_{j}$\n",
        "$$\\frac{1}{N}\\langle\\bar{\\psi}\\psi(t)\\rangle=\\frac{1}{2aN}\\langle01\\cdots01|e^{i H t}\\,\\sum_{j=1}^{N}(-1)^jZ_{j}\\, e^{-i H t}|01\\cdots01\\rangle.$$\n"
      ],
      "metadata": {
        "id": "TX9eLLIP8NEj"
      }
    },
    {
      "cell_type": "markdown",
      "source": [
        "The time-evolution of the initial state is given by the time-ordered integral\n",
        "$$|g(t)\\rangle=\\mathcal{T}e^{-i\\int_0^tHdt}|0\\cdots0\\rangle.$$\n",
        "It is important that $Z$ and $X$ do not commute $[Z,X]\\neq0$.\n",
        "\n",
        "\n",
        "We approximate the time-volution by discritizing the time-step $\\Delta t$ in the following way\n",
        "$$|g(k\\Delta t)\\rangle=e^{-i\\Delta t H_{XX}}e^{-i\\Delta t H_{Z}}|g((k-1)\\Delta t)\\rangle.$$ \n",
        "\n",
        "This technique is called Suzuki-Trotter decomposition and $\\Delta t$ is called a Suzuki-Trotter step. "
      ],
      "metadata": {
        "id": "DIhVnlzFtDey"
      }
    },
    {
      "cell_type": "markdown",
      "source": [
        "# Implementation of the Hamiltonian"
      ],
      "metadata": {
        "id": "QPemCGcPrAuY"
      }
    },
    {
      "cell_type": "markdown",
      "source": [
        "We decompose the Hamiltonian into $H_{XX+YY}$, $H_{ZZ},H_{Z}$ as\n",
        "\\begin{align}\n",
        "\\begin{aligned}\n",
        "H=&H_{XX+YY}+H_{ZZ}+H_Z\\\\\n",
        "H_{XX+YY}=&\\sum_{n=1}^{N-1}\n",
        "    \\left(\\frac{1}{4a}-\\frac{m}{4}(-1)^n\\sin\\theta\\right)\n",
        "    \\left(X_n X_{n+1}+Y_n Y_{n+1}\\right)\\\\\n",
        "H_{ZZ}+H_Z&=\\sum_{n=1}^{N}\\frac{m(-1)^{n}\\cos\\theta}{2} Z_n+\\frac{ag^2}{2}\\sum_{n=1}^{N}L^2_n\n",
        "\\end{aligned}\n",
        "\\end{align}\n",
        "where $H_{ZZ}$ consists of all $ZZ$-interaction terms and $H_{Z}$ consists of $Z$-terms only.  "
      ],
      "metadata": {
        "id": "ttb_7gA1JNzf"
      }
    },
    {
      "cell_type": "markdown",
      "source": [
        "### time-evolution using the $H_{ZZ}$ and $H_Z$ terms\n",
        "In general, $e^{i\\alpha Z_jZ_k}$ can be implemened by the folowing gate \n",
        "$$e^{i\\alpha Z_{j}Z_{k}}= CX_{jk}R_{Z,k}(2\\alpha)CX_{jk},$$\n",
        "where $CX_{jk}$ is the CNOT gate $$CX_{jk}=|0\\rangle_j\\langle0|\\otimes I+|1\\rangle_j\\langle1|\\otimes X_k$$\n",
        "and $R_{Z,k}(2\\alpha)=e^{i\\alpha Z_k}$ is the rotation about the $z$-axis at $k$.  \n",
        "\n",
        "Therefore we can implement the $H_{ZZ}$ term by \n",
        "$$e^{-iH_{ZZ}\\Delta t}=\\prod_{j=0}^{N-2}CX_{j,j+1}R_{Z,j+1 }(-2J\\Delta t)CX_{j,j+1}.$$\n",
        "\n",
        "Implementation of $H_Z$ is straightforward\n",
        "$$e^{-iH_{Z}\\Delta t}=\\prod_{j=0}^{N-1}R_{Z,j }(-2h\\Delta t).$$\n",
        "\n",
        "For more on these circuits, see the [demonstration with the Ising model](https://colab.research.google.com/drive/1k6KG4TpeGeIlCvcJt0bV_8-DP13sgnR6?usp=share_link)."
      ],
      "metadata": {
        "id": "9LXcXwAVsoeD"
      }
    },
    {
      "cell_type": "markdown",
      "source": [
        "### Time-evolution using the $H_{XX+YY}$ term"
      ],
      "metadata": {
        "id": "KTVrV_c7Z8nf"
      }
    },
    {
      "cell_type": "markdown",
      "source": [
        "Although $H_{XX+YY}$ can be decomposed into $H_{XX}$ and $H_{YY}$ separetely, it is more efficient to implement them as follows. Such a neaserst neightbor hopping term can be implemeted as follows. For simplicity we first put $\\theta=0$."
      ],
      "metadata": {
        "id": "8rQSNoDDGZBT"
      }
    },
    {
      "cell_type": "code",
      "source": [
        "n_site=2\n",
        "qr = QuantumRegister(n_site)\n",
        "cr = ClassicalRegister(n_site)\n",
        "\n",
        "### make main quantum circuit\n",
        "qc = QuantumCircuit(qr,cr)\n",
        "\n",
        "###make measurement circuit\n",
        "qc_meas = QuantumCircuit(qr,cr)\n",
        "qc_meas.measure(qr,cr)\n",
        "\n",
        "a=1\n",
        "\n",
        "dt=0.1\n",
        "###exp(-iH_{XX+YY}\\Delta t)\n",
        "for i in range(n_site-1):\n",
        "        qc.cx(qr[i],qr[i+1])\n",
        "        qc.h(qr[i])\n",
        "        qc.cx(qr[i],qr[i+1])\n",
        "        \n",
        "        qc.rz((0.5/a)*dt, qr[i])\n",
        "        qc.rz(-(0.5/a)*dt, qr[i+1])\n",
        "           \n",
        "        qc.cx(qr[i],qr[i+1])\n",
        "        qc.h(qr[i])\n",
        "        qc.cx(qr[i],qr[i+1])\n",
        "qc.draw()"
      ],
      "metadata": {
        "colab": {
          "base_uri": "https://localhost:8080/",
          "height": 125
        },
        "id": "fP6oRVTYy6vN",
        "outputId": "3aca6513-fac7-4a4c-b994-0cbfb9787b52"
      },
      "execution_count": 9,
      "outputs": [
        {
          "output_type": "execute_result",
          "data": {
            "text/plain": [
              "             ┌───┐      ┌──────────┐     ┌───┐     \n",
              "q208_0: ──■──┤ H ├──■───┤ Rz(0.05) ├──■──┤ H ├──■──\n",
              "        ┌─┴─┐└───┘┌─┴─┐┌┴──────────┤┌─┴─┐└───┘┌─┴─┐\n",
              "q208_1: ┤ X ├─────┤ X ├┤ Rz(-0.05) ├┤ X ├─────┤ X ├\n",
              "        └───┘     └───┘└───────────┘└───┘     └───┘\n",
              "  c3: 2/═══════════════════════════════════════════\n",
              "                                                   "
            ],
            "text/html": [
              "<pre style=\"word-wrap: normal;white-space: pre;background: #fff0;line-height: 1.1;font-family: &quot;Courier New&quot;,Courier,monospace\">             ┌───┐      ┌──────────┐     ┌───┐     \n",
              "q208_0: ──■──┤ H ├──■───┤ Rz(0.05) ├──■──┤ H ├──■──\n",
              "        ┌─┴─┐└───┘┌─┴─┐┌┴──────────┤┌─┴─┐└───┘┌─┴─┐\n",
              "q208_1: ┤ X ├─────┤ X ├┤ Rz(-0.05) ├┤ X ├─────┤ X ├\n",
              "        └───┘     └───┘└───────────┘└───┘     └───┘\n",
              "  c3: 2/═══════════════════════════════════════════\n",
              "                                                   </pre>"
            ]
          },
          "metadata": {},
          "execution_count": 9
        }
      ]
    },
    {
      "cell_type": "markdown",
      "source": [
        "### Prepare the initial state\n",
        "\n",
        "We prepare the initial state $|0101\\cdots01\\rangle$ as follows. "
      ],
      "metadata": {
        "id": "bf_nNzHwHjJn"
      }
    },
    {
      "cell_type": "code",
      "source": [
        "### parameters\n",
        "n_site = 4\n",
        "\n",
        "### simulator and shots\n",
        "simulator = Aer.get_backend('qasm_simulator')\n",
        "\n",
        "### quantum registers\n",
        "qr = QuantumRegister(n_site)\n",
        "cr = ClassicalRegister(n_site)\n",
        "\n",
        "### make main quantum circuit\n",
        "qc = QuantumCircuit(qr,cr)\n",
        "\n",
        "for i in range(int(n_site/2)):\n",
        "  qc.h(qr[2*i+1])\n",
        "\n",
        "qc.draw()"
      ],
      "metadata": {
        "colab": {
          "base_uri": "https://localhost:8080/",
          "height": 186
        },
        "id": "rOpaZxS2HwpE",
        "outputId": "9f03a316-e52e-44a7-8730-0ebeeb263562"
      },
      "execution_count": 39,
      "outputs": [
        {
          "output_type": "execute_result",
          "data": {
            "text/plain": [
              "              \n",
              "q2568_0: ─────\n",
              "         ┌───┐\n",
              "q2568_1: ┤ H ├\n",
              "         └───┘\n",
              "q2568_2: ─────\n",
              "         ┌───┐\n",
              "q2568_3: ┤ H ├\n",
              "         └───┘\n",
              "  c13: 4/═════\n",
              "              "
            ],
            "text/html": [
              "<pre style=\"word-wrap: normal;white-space: pre;background: #fff0;line-height: 1.1;font-family: &quot;Courier New&quot;,Courier,monospace\">              \n",
              "q2568_0: ─────\n",
              "         ┌───┐\n",
              "q2568_1: ┤ H ├\n",
              "         └───┘\n",
              "q2568_2: ─────\n",
              "         ┌───┐\n",
              "q2568_3: ┤ H ├\n",
              "         └───┘\n",
              "  c13: 4/═════\n",
              "              </pre>"
            ]
          },
          "metadata": {},
          "execution_count": 39
        }
      ]
    },
    {
      "cell_type": "markdown",
      "source": [
        "### Measurement of the magnetization\n",
        "\n",
        "We measure $Z_j~(j=1,\\cdots,N)$ and obtain the bitstring $b=b_1\\cdots b_{N}$, where each $b_j$ is either 0 or 1. \n",
        "\n",
        "$b_j=0$ means that +1 eigenvalue of $Z_j$ is obtained and $b_j=1$ means that -1 eigenvalue of $Z_j$ is obtained. \n",
        "\n",
        "To compute $\\frac{1}{N}\\langle\\bar{\\psi}\\psi(t)\\rangle=\\frac{1}{2aN}\\langle\\psi(t)|\\sum_{j=1}^{N}(-1)^jZ_j|\\psi_t\\rangle$, we conbert the bitstrings as follows \n",
        "\\begin{align}\n",
        "\\frac{1}{N}\\langle\\bar{\\psi}\\psi(t)\\rangle&=\\frac{1}{2aN}\\langle g(t)|\\sum_{j=1}^{N}(-1)^jZ_{j}|g(t)\\rangle\n",
        "\\\\\n",
        "&= \n",
        "\\frac{1}{2aN}\\sum_{j=1}^{N}\\sum_{b_{1},\\dots,b_{N}}(-1)^{j}(-)^{b_{j}}|\\langle b_{1}\\cdots b_{2aN}|\\psi(t)\\rangle|^{2}\\\\\n",
        "&=\\frac{1}{2aN}\\sum_{b_{1},\\dots,b_{N}}\\sum_{j=1}^{N}(-1)^{j}(-1)^{b_{j}} \\frac{\\text{count}(b_{1}\\cdots b_{N})}{n_{\\text{shots}}}.\n",
        "\\end{align}\n",
        "where count($b_{1}\\cdots b_{N}$) counts the number of times a bitstring $b_{1}\\cdots b_{N}\\in\\{0,1\\}^N$ apperes.  "
      ],
      "metadata": {
        "id": "bouTvIUM1Iqr"
      }
    },
    {
      "cell_type": "code",
      "source": [
        "### parameters\n",
        "n_site = 4\n",
        "a = 1\n",
        "M=1\n",
        "g=1\n",
        "\n",
        "J = 0.5*g*g*a\n",
        "\n",
        "t_max = n_site\n",
        "step_max = 10*t_max\n",
        "\n",
        "dt = t_max/step_max\n",
        "\n",
        "### simulator and shots\n",
        "simulator = Aer.get_backend('qasm_simulator')\n",
        "\n",
        "### quantum registers\n",
        "qr = QuantumRegister(n_site)\n",
        "cr = ClassicalRegister(n_site)\n",
        "\n",
        "### make main quantum circuit\n",
        "qc = QuantumCircuit(qr,cr)\n",
        "\n",
        "\n",
        "#######Prepapre Initial State#######\n",
        "from qiskit.quantum_info import random_statevector\n",
        "from qiskit.tools.monitor import job_monitor\n",
        "\n",
        "\n",
        "###make measurement circuit\n",
        "qc_meas = QuantumCircuit(qr,cr)\n",
        "for q in qr:\n",
        "    qc_meas.h(q)\n",
        "qc_meas.measure(qr,cr)\n",
        "\n",
        "time_list=[]\n",
        "mag_list=[]\n",
        "error_list=[]\n",
        "\n",
        "\n",
        "\n",
        "job_counter=0\n",
        "n_shots = 10000\n",
        "\n",
        "## prepare the initial state\n",
        "for i in range(int(n_site/2)):\n",
        "  qc.h(qr[2*i+1])\n",
        "\n",
        "for step in range(1,step_max+1):\n",
        "    ###edit here###\n",
        " \n",
        "    \n",
        "    #acting gates to implement one Suzuki-Trotter step\n",
        "    ###exp(-iH_{XX+YY}\\Delta t) #even\n",
        "    for i in range(n_site-1):\n",
        "        qc.cx(qr[i],qr[i+1])\n",
        "        qc.h(qr[i])\n",
        "        qc.cx(qr[i],qr[i+1])\n",
        "        \n",
        "        qc.rz((0.5/a)*dt, qr[i])\n",
        "        qc.rz(-(0.5/a)*dt, qr[i+1])\n",
        "           \n",
        "        qc.cx(qr[i],qr[i+1])\n",
        "        qc.h(qr[i])\n",
        "        qc.cx(qr[i],qr[i+1])\n",
        "    \n",
        "    ###exp(-iH_{Z}\\Delta t)   mass\n",
        "    for i in range(n_site):\n",
        "        qc.rz(M*((-1)**(i+1))*dt,qr[i])\n",
        "        \n",
        "        \n",
        "###exp(-iH_{ZZ}\\Delta t)  Electric Field\n",
        "    for i in range(n_site-1):\n",
        "        for k in range(1,i+1):\n",
        "            for l in range(k):\n",
        "                qc.rzz(J*dt,qr[k],qr[l])  \n",
        "\n",
        "\n",
        "        ###exp(-iH_{Z}\\Delta t)  Electric Field\n",
        "    for n in range(n_site-1):\n",
        "        qc.rz(-0.5*J*dt*(n_site-(n+1)-0.5*(-1+(-1)**(n+1))),qr[n])\n",
        "    \n",
        "\n",
        "    #add main circuit to measurement circuit to have total circuit\n",
        "    qc_total = qc.compose(qc_meas)  \n",
        "\n",
        "    #execute circuit\n",
        "    job = execute(qc_total, simulator, shots=n_shots) #execute Simulator \n",
        "    print('About to run job')   \n",
        "\n",
        "    job.status()\n",
        "    job_monitor(job)\n",
        "    job_counter+=1\n",
        "    print(\"Processed\",job_counter, \"jobs:\",100*job_counter/step_max,\"% has been done\")\n",
        "    print(\"Time is\",dt*step)\n",
        "\n",
        "    result = job.result() # obtain results\n",
        "    counts = result.get_counts(qc_total) \n",
        "        #compute magnetization\n",
        "    mag = 0\n",
        "    \n",
        "    se=0 #standard error\n",
        "    \n",
        "    error=[]\n",
        "    for bit_string, count in counts.items():\n",
        "\n",
        "        obs = 0\n",
        "        for j in range(n_site):\n",
        "            obs +=(-1)**int(bit_string[j])*(-1)**(j+1)\n",
        "        mag += obs*count/n_shots/(2*a)#/n_site\n",
        "        \n",
        "        for i in range(count):\n",
        "            error.append(obs/(2*a))\n",
        "        \n",
        "  \n",
        "    se=np.std(error)\n",
        "        \n",
        "\n",
        "\n",
        "    time_list.append(dt*step) #append time to the list of time\n",
        "    mag_list.append(mag)\n",
        "    error_list.append(se)\n",
        "        \n"
      ],
      "metadata": {
        "id": "jGegq56o5Uc3",
        "colab": {
          "base_uri": "https://localhost:8080/"
        },
        "outputId": "abab0dc7-5815-45d6-d059-d8c0cc3a6529"
      },
      "execution_count": 13,
      "outputs": [
        {
          "output_type": "stream",
          "name": "stdout",
          "text": [
            "About to run job\n",
            "\rJob Status: job has successfully run\n",
            "Processed 1 jobs: 2.5 % has been done\n",
            "Time is 0.1\n",
            "About to run job\n",
            "Job Status: job has successfully run\n",
            "Processed 2 jobs: 5.0 % has been done\n",
            "Time is 0.2\n",
            "About to run job\n",
            "Job Status: job has successfully run\n",
            "Processed 3 jobs: 7.5 % has been done\n",
            "Time is 0.30000000000000004\n",
            "About to run job\n",
            "Job Status: job has successfully run\n",
            "Processed 4 jobs: 10.0 % has been done\n",
            "Time is 0.4\n",
            "About to run job\n",
            "Job Status: job has successfully run\n",
            "Processed 5 jobs: 12.5 % has been done\n",
            "Time is 0.5\n",
            "About to run job\n",
            "Job Status: job has successfully run\n",
            "Processed 6 jobs: 15.0 % has been done\n",
            "Time is 0.6000000000000001\n",
            "About to run job\n",
            "Job Status: job has successfully run\n",
            "Processed 7 jobs: 17.5 % has been done\n",
            "Time is 0.7000000000000001\n",
            "About to run job\n",
            "Job Status: job has successfully run\n",
            "Processed 8 jobs: 20.0 % has been done\n",
            "Time is 0.8\n",
            "About to run job\n",
            "Job Status: job has successfully run\n",
            "Processed 9 jobs: 22.5 % has been done\n",
            "Time is 0.9\n",
            "About to run job\n",
            "Job Status: job has successfully run\n",
            "Processed 10 jobs: 25.0 % has been done\n",
            "Time is 1.0\n",
            "About to run job\n",
            "Job Status: job has successfully run\n",
            "Processed 11 jobs: 27.5 % has been done\n",
            "Time is 1.1\n",
            "About to run job\n",
            "Job Status: job has successfully run\n",
            "Processed 12 jobs: 30.0 % has been done\n",
            "Time is 1.2000000000000002\n",
            "About to run job\n",
            "Job Status: job has successfully run\n",
            "Processed 13 jobs: 32.5 % has been done\n",
            "Time is 1.3\n",
            "About to run job\n",
            "Job Status: job has successfully run\n",
            "Processed 14 jobs: 35.0 % has been done\n",
            "Time is 1.4000000000000001\n",
            "About to run job\n",
            "Job Status: job has successfully run\n",
            "Processed 15 jobs: 37.5 % has been done\n",
            "Time is 1.5\n",
            "About to run job\n",
            "Job Status: job has successfully run\n",
            "Processed 16 jobs: 40.0 % has been done\n",
            "Time is 1.6\n",
            "About to run job\n",
            "Job Status: job has successfully run\n",
            "Processed 17 jobs: 42.5 % has been done\n",
            "Time is 1.7000000000000002\n",
            "About to run job\n",
            "Job Status: job has successfully run\n",
            "Processed 18 jobs: 45.0 % has been done\n",
            "Time is 1.8\n",
            "About to run job\n",
            "Job Status: job has successfully run\n",
            "Processed 19 jobs: 47.5 % has been done\n",
            "Time is 1.9000000000000001\n",
            "About to run job\n",
            "Job Status: job has successfully run\n",
            "Processed 20 jobs: 50.0 % has been done\n",
            "Time is 2.0\n",
            "About to run job\n",
            "Job Status: job has successfully run\n",
            "Processed 21 jobs: 52.5 % has been done\n",
            "Time is 2.1\n",
            "About to run job\n",
            "Job Status: job has successfully run\n",
            "Processed 22 jobs: 55.0 % has been done\n",
            "Time is 2.2\n",
            "About to run job\n",
            "Job Status: job has successfully run\n",
            "Processed 23 jobs: 57.5 % has been done\n",
            "Time is 2.3000000000000003\n",
            "About to run job\n",
            "Job Status: job has successfully run\n",
            "Processed 24 jobs: 60.0 % has been done\n",
            "Time is 2.4000000000000004\n",
            "About to run job\n",
            "Job Status: job has successfully run\n",
            "Processed 25 jobs: 62.5 % has been done\n",
            "Time is 2.5\n",
            "About to run job\n",
            "Job Status: job has successfully run\n",
            "Processed 26 jobs: 65.0 % has been done\n",
            "Time is 2.6\n",
            "About to run job\n",
            "Job Status: job has successfully run\n",
            "Processed 27 jobs: 67.5 % has been done\n",
            "Time is 2.7\n",
            "About to run job\n",
            "Job Status: job has successfully run\n",
            "Processed 28 jobs: 70.0 % has been done\n",
            "Time is 2.8000000000000003\n",
            "About to run job\n",
            "Job Status: job has successfully run\n",
            "Processed 29 jobs: 72.5 % has been done\n",
            "Time is 2.9000000000000004\n",
            "About to run job\n",
            "Job Status: job has successfully run\n",
            "Processed 30 jobs: 75.0 % has been done\n",
            "Time is 3.0\n",
            "About to run job\n",
            "Job Status: job has successfully run\n",
            "Processed 31 jobs: 77.5 % has been done\n",
            "Time is 3.1\n",
            "About to run job\n",
            "Job Status: job has successfully run\n",
            "Processed 32 jobs: 80.0 % has been done\n",
            "Time is 3.2\n",
            "About to run job\n",
            "Job Status: job has successfully run\n",
            "Processed 33 jobs: 82.5 % has been done\n",
            "Time is 3.3000000000000003\n",
            "About to run job\n",
            "Job Status: job has successfully run\n",
            "Processed 34 jobs: 85.0 % has been done\n",
            "Time is 3.4000000000000004\n",
            "About to run job\n",
            "Job Status: job has successfully run\n",
            "Processed 35 jobs: 87.5 % has been done\n",
            "Time is 3.5\n",
            "About to run job\n",
            "Job Status: job has successfully run\n",
            "Processed 36 jobs: 90.0 % has been done\n",
            "Time is 3.6\n",
            "About to run job\n",
            "Job Status: job has successfully run\n",
            "Processed 37 jobs: 92.5 % has been done\n",
            "Time is 3.7\n",
            "About to run job\n",
            "Job Status: job has successfully run\n",
            "Processed 38 jobs: 95.0 % has been done\n",
            "Time is 3.8000000000000003\n",
            "About to run job\n",
            "Job Status: job has successfully run\n",
            "Processed 39 jobs: 97.5 % has been done\n",
            "Time is 3.9000000000000004\n",
            "About to run job\n",
            "Job Status: job has successfully run\n",
            "Processed 40 jobs: 100.0 % has been done\n",
            "Time is 4.0\n"
          ]
        }
      ]
    },
    {
      "cell_type": "code",
      "source": [
        "plt.plot(time_list, mag_list,label='Qiskit')\n",
        "plt.title('Chiral condensate')\n",
        "plt.xlabel('time')\n",
        "plt.legend()\n",
        "plt.show()"
      ],
      "metadata": {
        "colab": {
          "base_uri": "https://localhost:8080/",
          "height": 295
        },
        "id": "1D7qvu_40pnq",
        "outputId": "d4f5ec9e-8e94-4900-974f-64f71aa25f6d"
      },
      "execution_count": 14,
      "outputs": [
        {
          "output_type": "display_data",
          "data": {
            "text/plain": [
              "<Figure size 432x288 with 1 Axes>"
            ],
            "image/png": "[encoded data removed]"
          },
          "metadata": {
            "needs_background": "light"
          }
        }
      ]
    },
    {
      "cell_type": "markdown",
      "source": [
        "# Adiabatic state preparation (Time-dependent case)"
      ],
      "metadata": {
        "id": "AkcUimUqFRko"
      }
    },
    {
      "cell_type": "markdown",
      "source": [
        "Now we consider a **time-dependent case**, where the Hamiltonian is time-dependent. \n",
        "\n",
        "The massive Schwinger model is not analitically solvable. That means it is not possible to prepare the ground state by exact diagonalization, if the system is very large. \n",
        "\n",
        "The technique we introduce here works for a such a case. We start with a known ground state of a Hamiltonian $H_0$ and gradually evolves it into the desired ground state\n",
        "\n",
        "$$H(t)=tH_1+(1-t)H_0.$$\n",
        "\n",
        "This is exactly what we demonstrate with the [Ising model](https://colab.research.google.com/drive/1AV07pmU-QoiAzxyRNY56Y4TsJvKNP7lg?usp=share_link) and it is applied to various optimization problems. \n",
        "\n",
        "For practical appliactions to optimization problems using D-wave quantum annealer, please see \n",
        "- K. Ikeda, Y. Nakamura, T. Humble, \n",
        "[Application of Quantum Annealing to Nurse Scheduling Problem](https://www.nature.com/articles/s41598-019-49172-3), which is recorded in [D-wave user handbook](https://docs.dwavesys.com/docs/latest/handbook_problems.html). The code is available [here](https://github.com/dwave-examples/nurse-scheduling).\n",
        "\n",
        "For more on the adiabatic state preparation, see Appendix in\n",
        "\n",
        "- K. Ikeda, [Criticality of quantum energy teleportation at phase transition points in quantum field theory](https://arxiv.org/abs/2301.11712), arXiv: 2301.11712"
      ],
      "metadata": {
        "id": "L9bBY0kxFauC"
      }
    },
    {
      "cell_type": "markdown",
      "source": [
        "In our case the most efficient choice of $H(t=0)$ is the mass term $H_m=\\frac{m}{2}\\sum_{j=1}^N(-1)^jZ_j$, since its ground state is the Neel state $|0101\\cdots01\\rangle,~(m>0)$. With this choice, our time-depedent Hamiltonian is  \n",
        "$$\n",
        "H(t)=tH_{XX+YY}+tH_{ZZ}+tH_Z+H_{m},~t\\in[0,1]\n",
        "$$\n",
        "where $H_Z$ is consists of mass independent $Z$-terms \n",
        "\n",
        "- The initial state is $|10\\cdots10\\rangle$, which is the ground state of $H_Z(m)~(m>0)$. \n",
        "\n",
        "- The system gradually evolves from $H_Z(m)$ to the full hamiltonian $H$. "
      ],
      "metadata": {
        "id": "YjkORfk78WDE"
      }
    },
    {
      "cell_type": "markdown",
      "source": [
        "### Implement time-dependent Hamiltonian\n",
        "\n",
        "Let us consider about computing the average chiral condensate $\\frac{1}{N}\\langle\\bar{\\psi}\\psi(m)\\rangle$ of the Schwinger model with arbitrary mass $m$. \n",
        "\n",
        "The initial chiral condensate is $-\\frac{1}{2a}$, since we use $|01\\cdots01\\rangle$ and the initial Hamiltonian is $H(t=0,m)=H_m$. \n",
        "Again we use $\\theta=0$ for simplicity."
      ],
      "metadata": {
        "id": "rZj4r-W3EEMg"
      }
    },
    {
      "cell_type": "code",
      "source": [
        "### parameters\n",
        "n_site = 8\n",
        "a = 1\n",
        "M=3\n",
        "g=1\n",
        "\n",
        "J = 0.5*g*g*a\n",
        "\n",
        "t_max = 1\n",
        "step_max = 20*t_max\n",
        "\n",
        "dt = t_max/step_max\n",
        "\n",
        "### simulator and shots\n",
        "simulator = Aer.get_backend('qasm_simulator')\n",
        "\n",
        "### quantum registers\n",
        "qr = QuantumRegister(n_site)\n",
        "cr = ClassicalRegister(n_site)\n",
        "\n",
        "### make main quantum circuit\n",
        "qc = QuantumCircuit(qr,cr)\n",
        "\n",
        "\n",
        "#######Prepapre Initial State#######\n",
        "from qiskit.quantum_info import random_statevector\n",
        "from qiskit.tools.monitor import job_monitor\n",
        "\n",
        "\n",
        "###make measurement circuit\n",
        "qc_meas = QuantumCircuit(qr,cr)\n",
        "for q in qr:\n",
        "    qc_meas.h(q)\n",
        "qc_meas.measure(qr,cr)\n",
        "\n",
        "time_list=[]\n",
        "cc_list=[]\n",
        "error_list=[]\n",
        "\n",
        "\n",
        "\n",
        "job_counter=0\n",
        "n_shots = 10000\n",
        "\n",
        "## prepare the initial state\n",
        "for i in range(int(n_site/2)):\n",
        "  qc.h(qr[2*i+1])\n",
        "\n",
        "for step in range(1,step_max+1):\n",
        "    ###edit here###\n",
        " \n",
        "    \n",
        "    #acting gates to implement one Suzuki-Trotter step\n",
        "    ###exp(-iH_{XX+YY}\\Delta t) #even\n",
        "    for i in range(n_site-1):\n",
        "        qc.cx(qr[i],qr[i+1])\n",
        "        qc.h(qr[i])\n",
        "        qc.cx(qr[i],qr[i+1])\n",
        "        \n",
        "        qc.rz((0.5/a)*step*dt, qr[i])\n",
        "        qc.rz(-(0.5/a)*step*dt, qr[i+1])\n",
        "           \n",
        "        qc.cx(qr[i],qr[i+1])\n",
        "        qc.h(qr[i])\n",
        "        qc.cx(qr[i],qr[i+1])\n",
        "    \n",
        "    ###exp(-iH_{Z}\\Delta t)   mass\n",
        "    for i in range(n_site):\n",
        "        qc.rz(M*((-1)**(i+1))*dt,qr[i])\n",
        "        \n",
        "        \n",
        "###exp(-iH_{ZZ}\\Delta t)  Electric Field\n",
        "    for i in range(n_site-1):\n",
        "        for k in range(1,i+1):\n",
        "            for l in range(k):\n",
        "                qc.rzz(J*step*dt,qr[k],qr[l])  \n",
        "\n",
        "\n",
        "        ###exp(-iH_{Z}\\Delta t)  Electric Field\n",
        "    for n in range(n_site-1):\n",
        "        qc.rz(-0.5*J*step*dt*(n_site-(n+1)-0.5*(-1+(-1)**(n+1))),qr[n])\n",
        "    \n",
        "\n",
        "    #add main circuit to measurement circuit to have total circuit\n",
        "    qc_total = qc.compose(qc_meas)  \n",
        "\n",
        "    #execute circuit\n",
        "    job = execute(qc_total, simulator, shots=n_shots) #execute Simulator \n",
        "    print('About to run job')   \n",
        "\n",
        "    job.status()\n",
        "    job_monitor(job)\n",
        "    job_counter+=1\n",
        "    print(\"Processed\",job_counter, \"jobs:\",100*job_counter/step_max,\"% has been done\")\n",
        "    print(\"Time is\",dt*step)\n",
        "\n",
        "    result = job.result() # obtain results\n",
        "    counts = result.get_counts(qc_total) \n",
        "        #compute chiral condensate\n",
        "    cc = 0\n",
        "    \n",
        "    se=0 #standard error\n",
        "    \n",
        "    error=[]\n",
        "    for bit_string, count in counts.items():\n",
        "\n",
        "        obs = 0\n",
        "        for j in range(n_site):\n",
        "            obs +=(-1)**int(bit_string[j])*(-1)**(j+1)\n",
        "        cc += obs*count/n_shots/(2*a)/n_site\n",
        "        \n",
        "        for i in range(count):\n",
        "            error.append(obs/(2*a))\n",
        "        \n",
        "  \n",
        "    se=np.std(error)\n",
        "        \n",
        "\n",
        "\n",
        "    time_list.append(dt*step) #append time to the list of time\n",
        "    cc_list.append(cc)\n",
        "    error_list.append(se)\n",
        "        \n"
      ],
      "metadata": {
        "id": "umErblLWHXlj",
        "colab": {
          "base_uri": "https://localhost:8080/"
        },
        "outputId": "ca47821c-0e4a-435d-e499-a26567e71259"
      },
      "execution_count": 60,
      "outputs": [
        {
          "output_type": "stream",
          "name": "stdout",
          "text": [
            "About to run job\n",
            "Job Status: job has successfully run\n",
            "Processed 1 jobs: 5.0 % has been done\n",
            "Time is 0.05\n",
            "About to run job\n",
            "Job Status: job has successfully run\n",
            "Processed 2 jobs: 10.0 % has been done\n",
            "Time is 0.1\n",
            "About to run job\n",
            "Job Status: job has successfully run\n",
            "Processed 3 jobs: 15.0 % has been done\n",
            "Time is 0.15000000000000002\n",
            "About to run job\n",
            "Job Status: job has successfully run\n",
            "Processed 4 jobs: 20.0 % has been done\n",
            "Time is 0.2\n",
            "About to run job\n",
            "Job Status: job has successfully run\n",
            "Processed 5 jobs: 25.0 % has been done\n",
            "Time is 0.25\n",
            "About to run job\n",
            "Job Status: job has successfully run\n",
            "Processed 6 jobs: 30.0 % has been done\n",
            "Time is 0.30000000000000004\n",
            "About to run job\n",
            "Job Status: job has successfully run\n",
            "Processed 7 jobs: 35.0 % has been done\n",
            "Time is 0.35000000000000003\n",
            "About to run job\n",
            "Job Status: job has successfully run\n",
            "Processed 8 jobs: 40.0 % has been done\n",
            "Time is 0.4\n",
            "About to run job\n",
            "Job Status: job has successfully run\n",
            "Processed 9 jobs: 45.0 % has been done\n",
            "Time is 0.45\n",
            "About to run job\n",
            "Job Status: job has successfully run\n",
            "Processed 10 jobs: 50.0 % has been done\n",
            "Time is 0.5\n",
            "About to run job\n",
            "Job Status: job has successfully run\n",
            "Processed 11 jobs: 55.0 % has been done\n",
            "Time is 0.55\n",
            "About to run job\n",
            "Job Status: job has successfully run\n",
            "Processed 12 jobs: 60.0 % has been done\n",
            "Time is 0.6000000000000001\n",
            "About to run job\n",
            "Job Status: job has successfully run\n",
            "Processed 13 jobs: 65.0 % has been done\n",
            "Time is 0.65\n",
            "About to run job\n",
            "Job Status: job has successfully run\n",
            "Processed 14 jobs: 70.0 % has been done\n",
            "Time is 0.7000000000000001\n",
            "About to run job\n",
            "Job Status: job has successfully run\n",
            "Processed 15 jobs: 75.0 % has been done\n",
            "Time is 0.75\n",
            "About to run job\n",
            "Job Status: job has successfully run\n",
            "Processed 16 jobs: 80.0 % has been done\n",
            "Time is 0.8\n",
            "About to run job\n",
            "Job Status: job has successfully run\n",
            "Processed 17 jobs: 85.0 % has been done\n",
            "Time is 0.8500000000000001\n",
            "About to run job\n",
            "Job Status: job has successfully run\n",
            "Processed 18 jobs: 90.0 % has been done\n",
            "Time is 0.9\n",
            "About to run job\n",
            "Job Status: job has successfully run\n",
            "Processed 19 jobs: 95.0 % has been done\n",
            "Time is 0.9500000000000001\n",
            "About to run job\n",
            "Job Status: job has successfully run\n",
            "Processed 20 jobs: 100.0 % has been done\n",
            "Time is 1.0\n"
          ]
        }
      ]
    },
    {
      "cell_type": "code",
      "source": [
        "plt.plot(time_list, mag_list, \"-\",label=f'$m={M}$')\n",
        "plt.title('Chiral condensate')\n",
        "plt.xlabel('time')\n",
        "plt.legend()\n",
        "plt.show()"
      ],
      "metadata": {
        "colab": {
          "base_uri": "https://localhost:8080/",
          "height": 295
        },
        "id": "zbyvyRcjA2ZM",
        "outputId": "fcbd19c6-8275-4cc0-d855-a2b0d28fd236"
      },
      "execution_count": 56,
      "outputs": [
        {
          "output_type": "display_data",
          "data": {
            "text/plain": [
              "<Figure size 432x288 with 1 Axes>"
            ],
            "image/png": "[encoded data removed]"
          },
          "metadata": {
            "needs_background": "light"
          }
        }
      ]
    },
    {
      "cell_type": "markdown",
      "source": [
        "# Simulation of phase transition"
      ],
      "metadata": {
        "id": "ECQT8KokYZze"
      }
    },
    {
      "cell_type": "markdown",
      "source": [
        "Now we demonstarete interesting physics of the massive Schwinger model. \n",
        "Remember the phase diagram. \n",
        "\n",
        "![phase diagram](https://drive.google.com/uc?id=165_mlI7V8UK1srFyXUXikN6FWBmS4h1C)\n",
        "\n",
        "\n",
        "Using the previous data of the adiabatic state preparation, we can demonstrate the phase transition.\n",
        "\n",
        "Our time-dependent Hamiltonian is \n",
        "\\begin{align}\n",
        "\\begin{aligned}\n",
        "H(t)=&\\sum_{n=1}^{N-1}\n",
        "    \\left(\\frac{1}{4a}-\\frac{m}{4}(-1)^n\\sin(2\\pi t)\\right)\n",
        "    \\left(X_n X_{n+1}+Y_n Y_{n+1}\\right)\\\\\n",
        "&+\\sum_{n=1}^{N}\\frac{m(-1)^n\\cos(2\\pi t)}{2} Z_n+\\frac{ag^2}{2}\\sum_{n=0}^{N}L^2_n.\n",
        "\\end{aligned}\n",
        "\\end{align}\n",
        "\n",
        "We should still keep the ground state of the Hamiltonian at $m$, if we did not destroy the circuit above. (Please execute adiabatic state preparation now if you have not done yet.)\n",
        "\n",
        "Now let us gradually change the $\\theta$-term from 0 to $2\\pi$. Then according to the phase diagram, there should be a (first-order or second-order) phase transition at $\\theta=\\pi$. "
      ],
      "metadata": {
        "id": "U9_vNfHaYudr"
      }
    },
    {
      "cell_type": "code",
      "source": [
        "t_max = 1\n",
        "step_max = 20*t_max\n",
        "\n",
        "dt = t_max/step_max\n",
        "\n",
        "\n",
        "time_list2=[]\n",
        "cc_list2=[]\n",
        "error_list2=[]\n",
        "\n",
        "\n",
        "for step in range(1,step_max+1):\n",
        "    ###edit here###\n",
        " \n",
        "    \n",
        "    #acting gates to implement one Suzuki-Trotter step\n",
        "    ###exp(-iH_{XX+YY}\\Delta t) #even\n",
        "    for i in range(n_site-1):\n",
        "        qc.cx(qr[i],qr[i+1])\n",
        "        qc.h(qr[i])\n",
        "        qc.cx(qr[i],qr[i+1])\n",
        "        \n",
        "        qc.rz(((0.5/a)-0.5*M*np.sin(step*2*np.pi)*(-1)**(i+1))*step*dt, qr[i])\n",
        "        qc.rz(-((0.5/a)-0.5*M*np.sin(step*2*np.pi)*(-1)**(i+1))*step*dt, qr[i+1])\n",
        "           \n",
        "        qc.cx(qr[i],qr[i+1])\n",
        "        qc.h(qr[i])\n",
        "        qc.cx(qr[i],qr[i+1])\n",
        "    \n",
        "    ###exp(-iH_{Z}\\Delta t)   mass\n",
        "    for i in range(n_site):\n",
        "        qc.rz(M*((-1)**(i+1))*np.cos(step*2*np.pi)*dt,qr[i])\n",
        "        \n",
        "        \n",
        "###exp(-iH_{ZZ}\\Delta t)  Electric Field\n",
        "    for i in range(n_site-1):\n",
        "        for k in range(1,i+1):\n",
        "            for l in range(k):\n",
        "                qc.rzz(J*dt,qr[k],qr[l])  \n",
        "\n",
        "\n",
        "        ###exp(-iH_{Z}\\Delta t)  Electric Field\n",
        "    for n in range(n_site-1):\n",
        "        qc.rz(-0.5*J*dt*(n_site-(n+1)-0.5*(-1+(-1)**(n+1))),qr[n])\n",
        "    \n",
        "\n",
        "    #add main circuit to measurement circuit to have total circuit\n",
        "    qc_total = qc.compose(qc_meas)  \n",
        "\n",
        "    #execute circuit\n",
        "    job = execute(qc_total, simulator, shots=n_shots) #execute Simulator \n",
        "    print('About to run job')   \n",
        "\n",
        "    job.status()\n",
        "    job_monitor(job)\n",
        "    job_counter+=1\n",
        "    print(\"Processed\",job_counter, \"jobs:\",100*job_counter/step_max,\"% has been done\")\n",
        "    print(\"Time is\",dt*step)\n",
        "\n",
        "    result = job.result() # obtain results\n",
        "    counts = result.get_counts(qc_total) \n",
        "        #compute magnetization\n",
        "    cc = 0\n",
        "    \n",
        "    se=0 #standard error\n",
        "    \n",
        "    error=[]\n",
        "    for bit_string, count in counts.items():\n",
        "\n",
        "        obs = 0\n",
        "        for j in range(n_site):\n",
        "            obs +=(-1)**int(bit_string[j])*(-1)**(j+1)\n",
        "        cc += obs*count/n_shots/(2*a)/n_site\n",
        "        \n",
        "        for i in range(count):\n",
        "            error.append(obs/(2*a))\n",
        "        \n",
        "  \n",
        "    se=np.std(error)\n",
        "        \n",
        "\n",
        "\n",
        "    time_list2.append(dt*step) #append time to the list of time\n",
        "    cc_list2.append(cc)\n",
        "    error_list2.append(se)"
      ],
      "metadata": {
        "colab": {
          "base_uri": "https://localhost:8080/"
        },
        "id": "okrciptbYYJW",
        "outputId": "981a700d-ad92-4dee-a91c-3b0dd919d741"
      },
      "execution_count": 61,
      "outputs": [
        {
          "output_type": "stream",
          "name": "stdout",
          "text": [
            "About to run job\n",
            "Job Status: job has successfully run\n",
            "Processed 21 jobs: 105.0 % has been done\n",
            "Time is 0.05\n",
            "About to run job\n",
            "Job Status: job has successfully run\n",
            "Processed 22 jobs: 110.0 % has been done\n",
            "Time is 0.1\n",
            "About to run job\n",
            "Job Status: job has successfully run\n",
            "Processed 23 jobs: 115.0 % has been done\n",
            "Time is 0.15000000000000002\n",
            "About to run job\n",
            "Job Status: job has successfully run\n",
            "Processed 24 jobs: 120.0 % has been done\n",
            "Time is 0.2\n",
            "About to run job\n",
            "Job Status: job has successfully run\n",
            "Processed 25 jobs: 125.0 % has been done\n",
            "Time is 0.25\n",
            "About to run job\n",
            "Job Status: job has successfully run\n",
            "Processed 26 jobs: 130.0 % has been done\n",
            "Time is 0.30000000000000004\n",
            "About to run job\n",
            "Job Status: job has successfully run\n",
            "Processed 27 jobs: 135.0 % has been done\n",
            "Time is 0.35000000000000003\n",
            "About to run job\n",
            "Job Status: job has successfully run\n",
            "Processed 28 jobs: 140.0 % has been done\n",
            "Time is 0.4\n",
            "About to run job\n",
            "Job Status: job has successfully run\n",
            "Processed 29 jobs: 145.0 % has been done\n",
            "Time is 0.45\n",
            "About to run job\n",
            "Job Status: job has successfully run\n",
            "Processed 30 jobs: 150.0 % has been done\n",
            "Time is 0.5\n",
            "About to run job\n",
            "Job Status: job has successfully run\n",
            "Processed 31 jobs: 155.0 % has been done\n",
            "Time is 0.55\n",
            "About to run job\n",
            "Job Status: job has successfully run\n",
            "Processed 32 jobs: 160.0 % has been done\n",
            "Time is 0.6000000000000001\n",
            "About to run job\n",
            "Job Status: job has successfully run\n",
            "Processed 33 jobs: 165.0 % has been done\n",
            "Time is 0.65\n",
            "About to run job\n",
            "Job Status: job has successfully run\n",
            "Processed 34 jobs: 170.0 % has been done\n",
            "Time is 0.7000000000000001\n",
            "About to run job\n",
            "Job Status: job has successfully run\n",
            "Processed 35 jobs: 175.0 % has been done\n",
            "Time is 0.75\n",
            "About to run job\n",
            "Job Status: job has successfully run\n",
            "Processed 36 jobs: 180.0 % has been done\n",
            "Time is 0.8\n",
            "About to run job\n",
            "Job Status: job has successfully run\n",
            "Processed 37 jobs: 185.0 % has been done\n",
            "Time is 0.8500000000000001\n",
            "About to run job\n",
            "Job Status: job has successfully run\n",
            "Processed 38 jobs: 190.0 % has been done\n",
            "Time is 0.9\n",
            "About to run job\n",
            "Job Status: job has successfully run\n",
            "Processed 39 jobs: 195.0 % has been done\n",
            "Time is 0.9500000000000001\n",
            "About to run job\n",
            "Job Status: job has successfully run\n",
            "Processed 40 jobs: 200.0 % has been done\n",
            "Time is 1.0\n"
          ]
        }
      ]
    },
    {
      "cell_type": "code",
      "source": [
        "plt.plot(time_list2, cc_list2, \"-\",label=f'$m={M}$')\n",
        "plt.title('Chiral condensate')\n",
        "plt.xlabel(\"time\")\n",
        "plt.legend()\n",
        "plt.show()"
      ],
      "metadata": {
        "colab": {
          "base_uri": "https://localhost:8080/",
          "height": 295
        },
        "id": "YtqxSnzbcMFs",
        "outputId": "763587a3-fbea-462a-fa21-43286828d7b1"
      },
      "execution_count": 62,
      "outputs": [
        {
          "output_type": "display_data",
          "data": {
            "text/plain": [
              "<Figure size 432x288 with 1 Axes>"
            ],
            "image/png": "[encoded data removed]"
          },
          "metadata": {
            "needs_background": "light"
          }
        }
      ]
    },
    {
      "cell_type": "markdown",
      "source": [
        "The peak corresponds to the critical point of the phase transition. "
      ],
      "metadata": {
        "id": "p3j7usFgmJqq"
      }
    },
    {
      "cell_type": "code",
      "source": [],
      "metadata": {
        "id": "xgnxUQszkof3"
      },
      "execution_count": null,
      "outputs": []
    }
  ]
}