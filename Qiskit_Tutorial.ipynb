{
  "nbformat": 4,
  "nbformat_minor": 0,
  "metadata": {
    "colab": {
      "provenance": [],
      "toc_visible": true,
      "authorship_tag": "ABX9TyNJQn9VN6HuDCcC1mCDD1IK",
      "include_colab_link": true
    },
    "kernelspec": {
      "name": "python3",
      "display_name": "Python 3"
    },
    "language_info": {
      "name": "python"
    }
  },
  "cells": [
    {
      "cell_type": "markdown",
      "metadata": {
        "id": "view-in-github",
        "colab_type": "text"
      },
      "source": [
        "<a href=\"https://colab.research.google.com/github/IKEDAKAZUKI/Qiskit-Tutorial/blob/main/Qiskit_Tutorial.ipynb\" target=\"_parent\"><img src=\"https://colab.research.google.com/assets/colab-badge.svg\" alt=\"Open In Colab\"/></a>"
      ]
    },
    {
      "cell_type": "markdown",
      "source": [
        "# Tutorial on Qiskit by Kazuki Ikeda at Stony Brook University"
      ],
      "metadata": {
        "id": "kpzqkWToDSLK"
      }
    },
    {
      "cell_type": "markdown",
      "source": [
        "I give a tutorial on quantum simulation with IBM Qiskit.\n",
        "More projects are provied in my [website](https://kazukiikeda.studio.site/)"
      ],
      "metadata": {
        "id": "eHVdcHbq0LeP"
      }
    },
    {
      "cell_type": "markdown",
      "source": [
        "# Install Qiskit and packages"
      ],
      "metadata": {
        "id": "lBhs1DLrrQ83"
      }
    },
    {
      "cell_type": "markdown",
      "source": [
        "If Qiskit is not installed, please install it."
      ],
      "metadata": {
        "id": "X46GF96OaFPh"
      }
    },
    {
      "cell_type": "code",
      "execution_count": 1,
      "metadata": {
        "colab": {
          "base_uri": "https://localhost:8080/"
        },
        "id": "FucTN8dILHOH",
        "outputId": "af37edd3-a2fc-4ed8-8296-856260f4ca68"
      },
      "outputs": [
        {
          "output_type": "stream",
          "name": "stdout",
          "text": [
            "Looking in indexes: https://pypi.org/simple, https://us-python.pkg.dev/colab-wheels/public/simple/\n",
            "Collecting qiskit\n",
            "  Downloading qiskit-0.43.1.tar.gz (9.6 kB)\n",
            "  Installing build dependencies ... \u001b[?25l\u001b[?25hdone\n",
            "  Getting requirements to build wheel ... \u001b[?25l\u001b[?25hdone\n",
            "  Installing backend dependencies ... \u001b[?25l\u001b[?25hdone\n",
            "  Preparing metadata (pyproject.toml) ... \u001b[?25l\u001b[?25hdone\n",
            "Collecting qiskit-terra==0.24.1 (from qiskit)\n",
            "  Downloading qiskit_terra-0.24.1-cp310-cp310-manylinux_2_17_x86_64.manylinux2014_x86_64.whl (5.9 MB)\n",
            "\u001b[2K     \u001b[90m━━━━━━━━━━━━━━━━━━━━━━━━━━━━━━━━━━━━━━━━\u001b[0m \u001b[32m5.9/5.9 MB\u001b[0m \u001b[31m44.4 MB/s\u001b[0m eta \u001b[36m0:00:00\u001b[0m\n",
            "\u001b[?25hCollecting qiskit-aer==0.12.0 (from qiskit)\n",
            "  Downloading qiskit_aer-0.12.0-cp310-cp310-manylinux_2_17_x86_64.manylinux2014_x86_64.whl (12.8 MB)\n",
            "\u001b[2K     \u001b[90m━━━━━━━━━━━━━━━━━━━━━━━━━━━━━━━━━━━━━━━━\u001b[0m \u001b[32m12.8/12.8 MB\u001b[0m \u001b[31m83.8 MB/s\u001b[0m eta \u001b[36m0:00:00\u001b[0m\n",
            "\u001b[?25hCollecting qiskit-ibmq-provider==0.20.2 (from qiskit)\n",
            "  Downloading qiskit_ibmq_provider-0.20.2-py3-none-any.whl (241 kB)\n",
            "\u001b[2K     \u001b[90m━━━━━━━━━━━━━━━━━━━━━━━━━━━━━━━━━━━━━━\u001b[0m \u001b[32m241.5/241.5 kB\u001b[0m \u001b[31m23.6 MB/s\u001b[0m eta \u001b[36m0:00:00\u001b[0m\n",
            "\u001b[?25hRequirement already satisfied: numpy>=1.16.3 in /usr/local/lib/python3.10/dist-packages (from qiskit-aer==0.12.0->qiskit) (1.22.4)\n",
            "Requirement already satisfied: scipy>=1.0 in /usr/local/lib/python3.10/dist-packages (from qiskit-aer==0.12.0->qiskit) (1.10.1)\n",
            "Requirement already satisfied: requests>=2.19 in /usr/local/lib/python3.10/dist-packages (from qiskit-ibmq-provider==0.20.2->qiskit) (2.27.1)\n",
            "Collecting requests-ntlm<=1.1.0 (from qiskit-ibmq-provider==0.20.2->qiskit)\n",
            "  Downloading requests_ntlm-1.1.0-py2.py3-none-any.whl (5.7 kB)\n",
            "Requirement already satisfied: urllib3>=1.21.1 in /usr/local/lib/python3.10/dist-packages (from qiskit-ibmq-provider==0.20.2->qiskit) (1.26.15)\n",
            "Requirement already satisfied: python-dateutil>=2.8.0 in /usr/local/lib/python3.10/dist-packages (from qiskit-ibmq-provider==0.20.2->qiskit) (2.8.2)\n",
            "Requirement already satisfied: websocket-client>=1.5.1 in /usr/local/lib/python3.10/dist-packages (from qiskit-ibmq-provider==0.20.2->qiskit) (1.5.1)\n",
            "Collecting websockets>=10.0 (from qiskit-ibmq-provider==0.20.2->qiskit)\n",
            "  Downloading websockets-11.0.3-cp310-cp310-manylinux_2_5_x86_64.manylinux1_x86_64.manylinux_2_17_x86_64.manylinux2014_x86_64.whl (129 kB)\n",
            "\u001b[2K     \u001b[90m━━━━━━━━━━━━━━━━━━━━━━━━━━━━━━━━━━━━━━\u001b[0m \u001b[32m129.9/129.9 kB\u001b[0m \u001b[31m13.5 MB/s\u001b[0m eta \u001b[36m0:00:00\u001b[0m\n",
            "\u001b[?25hCollecting rustworkx>=0.12.0 (from qiskit-terra==0.24.1->qiskit)\n",
            "  Downloading rustworkx-0.13.0-cp310-cp310-manylinux_2_17_x86_64.manylinux2014_x86_64.whl (1.9 MB)\n",
            "\u001b[2K     \u001b[90m━━━━━━━━━━━━━━━━━━━━━━━━━━━━━━━━━━━━━━━━\u001b[0m \u001b[32m1.9/1.9 MB\u001b[0m \u001b[31m74.2 MB/s\u001b[0m eta \u001b[36m0:00:00\u001b[0m\n",
            "\u001b[?25hCollecting ply>=3.10 (from qiskit-terra==0.24.1->qiskit)\n",
            "  Downloading ply-3.11-py2.py3-none-any.whl (49 kB)\n",
            "\u001b[2K     \u001b[90m━━━━━━━━━━━━━━━━━━━━━━━━━━━━━━━━━━━━━━━━\u001b[0m \u001b[32m49.6/49.6 kB\u001b[0m \u001b[31m5.1 MB/s\u001b[0m eta \u001b[36m0:00:00\u001b[0m\n",
            "\u001b[?25hRequirement already satisfied: psutil>=5 in /usr/local/lib/python3.10/dist-packages (from qiskit-terra==0.24.1->qiskit) (5.9.5)\n",
            "Requirement already satisfied: sympy>=1.3 in /usr/local/lib/python3.10/dist-packages (from qiskit-terra==0.24.1->qiskit) (1.11.1)\n",
            "Collecting dill>=0.3 (from qiskit-terra==0.24.1->qiskit)\n",
            "  Downloading dill-0.3.6-py3-none-any.whl (110 kB)\n",
            "\u001b[2K     \u001b[90m━━━━━━━━━━━━━━━━━━━━━━━━━━━━━━━━━━━━━━\u001b[0m \u001b[32m110.5/110.5 kB\u001b[0m \u001b[31m11.3 MB/s\u001b[0m eta \u001b[36m0:00:00\u001b[0m\n",
            "\u001b[?25hCollecting stevedore>=3.0.0 (from qiskit-terra==0.24.1->qiskit)\n",
            "  Downloading stevedore-5.1.0-py3-none-any.whl (49 kB)\n",
            "\u001b[2K     \u001b[90m━━━━━━━━━━━━━━━━━━━━━━━━━━━━━━━━━━━━━━━━\u001b[0m \u001b[32m49.6/49.6 kB\u001b[0m \u001b[31m5.4 MB/s\u001b[0m eta \u001b[36m0:00:00\u001b[0m\n",
            "\u001b[?25hCollecting symengine<0.10,>=0.9 (from qiskit-terra==0.24.1->qiskit)\n",
            "  Downloading symengine-0.9.2-cp310-cp310-manylinux2010_x86_64.whl (37.5 MB)\n",
            "\u001b[2K     \u001b[90m━━━━━━━━━━━━━━━━━━━━━━━━━━━━━━━━━━━━━━━━\u001b[0m \u001b[32m37.5/37.5 MB\u001b[0m \u001b[31m19.5 MB/s\u001b[0m eta \u001b[36m0:00:00\u001b[0m\n",
            "\u001b[?25hRequirement already satisfied: six>=1.5 in /usr/local/lib/python3.10/dist-packages (from python-dateutil>=2.8.0->qiskit-ibmq-provider==0.20.2->qiskit) (1.16.0)\n",
            "Requirement already satisfied: certifi>=2017.4.17 in /usr/local/lib/python3.10/dist-packages (from requests>=2.19->qiskit-ibmq-provider==0.20.2->qiskit) (2022.12.7)\n",
            "Requirement already satisfied: charset-normalizer~=2.0.0 in /usr/local/lib/python3.10/dist-packages (from requests>=2.19->qiskit-ibmq-provider==0.20.2->qiskit) (2.0.12)\n",
            "Requirement already satisfied: idna<4,>=2.5 in /usr/local/lib/python3.10/dist-packages (from requests>=2.19->qiskit-ibmq-provider==0.20.2->qiskit) (3.4)\n",
            "Collecting ntlm-auth>=1.0.2 (from requests-ntlm<=1.1.0->qiskit-ibmq-provider==0.20.2->qiskit)\n",
            "  Downloading ntlm_auth-1.5.0-py2.py3-none-any.whl (29 kB)\n",
            "Requirement already satisfied: cryptography>=1.3 in /usr/local/lib/python3.10/dist-packages (from requests-ntlm<=1.1.0->qiskit-ibmq-provider==0.20.2->qiskit) (40.0.2)\n",
            "Collecting pbr!=2.1.0,>=2.0.0 (from stevedore>=3.0.0->qiskit-terra==0.24.1->qiskit)\n",
            "  Downloading pbr-5.11.1-py2.py3-none-any.whl (112 kB)\n",
            "\u001b[2K     \u001b[90m━━━━━━━━━━━━━━━━━━━━━━━━━━━━━━━━━━━━━━\u001b[0m \u001b[32m112.7/112.7 kB\u001b[0m \u001b[31m11.8 MB/s\u001b[0m eta \u001b[36m0:00:00\u001b[0m\n",
            "\u001b[?25hRequirement already satisfied: mpmath>=0.19 in /usr/local/lib/python3.10/dist-packages (from sympy>=1.3->qiskit-terra==0.24.1->qiskit) (1.3.0)\n",
            "Requirement already satisfied: cffi>=1.12 in /usr/local/lib/python3.10/dist-packages (from cryptography>=1.3->requests-ntlm<=1.1.0->qiskit-ibmq-provider==0.20.2->qiskit) (1.15.1)\n",
            "Requirement already satisfied: pycparser in /usr/local/lib/python3.10/dist-packages (from cffi>=1.12->cryptography>=1.3->requests-ntlm<=1.1.0->qiskit-ibmq-provider==0.20.2->qiskit) (2.21)\n",
            "Building wheels for collected packages: qiskit\n",
            "  Building wheel for qiskit (pyproject.toml) ... \u001b[?25l\u001b[?25hdone\n",
            "  Created wheel for qiskit: filename=qiskit-0.43.1-py3-none-any.whl size=8029 sha256=a0300fe2b45936f8e8fa39aff7f77ceb3d977139adc494702aa9e865344d4069\n",
            "  Stored in directory: /root/.cache/pip/wheels/f1/f6/ad/0f2527d2cc0028cd682619f1b50a24476fd3592e0c63f87282\n",
            "Successfully built qiskit\n",
            "Installing collected packages: ply, websockets, symengine, rustworkx, pbr, ntlm-auth, dill, stevedore, requests-ntlm, qiskit-terra, qiskit-ibmq-provider, qiskit-aer, qiskit\n",
            "Successfully installed dill-0.3.6 ntlm-auth-1.5.0 pbr-5.11.1 ply-3.11 qiskit-0.43.1 qiskit-aer-0.12.0 qiskit-ibmq-provider-0.20.2 qiskit-terra-0.24.1 requests-ntlm-1.1.0 rustworkx-0.13.0 stevedore-5.1.0 symengine-0.9.2 websockets-11.0.3\n"
          ]
        }
      ],
      "source": [
        "pip install qiskit"
      ]
    },
    {
      "cell_type": "code",
      "source": [
        "import numpy as np\n",
        "import matplotlib.pyplot as plt \n",
        "from qiskit import * #qiskit\n",
        "from qiskit.visualization import plot_histogram, plot_bloch_multivector, array_to_latex\n",
        "from qiskit.extensions import Initialize\n",
        "from qiskit import QuantumCircuit, QuantumRegister, transpile, execute, Aer, BasicAer\n",
        "from qiskit.quantum_info import random_statevector\n",
        "from qiskit.quantum_info import partial_trace, entropy\n",
        "import qiskit.quantum_info as qi"
      ],
      "metadata": {
        "id": "NHFIIsn4EZpO"
      },
      "execution_count": 2,
      "outputs": []
    },
    {
      "cell_type": "markdown",
      "source": [
        "We first get the simulator."
      ],
      "metadata": {
        "id": "vl8Edh7-Equ2"
      }
    },
    {
      "cell_type": "code",
      "source": [
        "simulator = Aer.get_backend('qasm_simulator')"
      ],
      "metadata": {
        "id": "ZgA4_XmtzxjP"
      },
      "execution_count": 3,
      "outputs": []
    },
    {
      "cell_type": "markdown",
      "source": [
        "# Build quantum circuits"
      ],
      "metadata": {
        "id": "VzX0Ho2vTjOt"
      }
    },
    {
      "cell_type": "markdown",
      "source": [
        "In what follows, we explain basic operators, measurement, Bell states, reduced dencity matrices, the entanglement entropy. \n",
        "\n",
        "You can learn how to execute circuits using \"qasm_simulator\" and state vector simulator \"aer_simulator_statevector\". "
      ],
      "metadata": {
        "id": "i8UkHzlLmna-"
      }
    },
    {
      "cell_type": "markdown",
      "source": [
        "- Computational basis\n",
        "$Z|0\\rangle=+|0\\rangle, Z|1\\rangle=-|1\\rangle$\n",
        "$$ |0\\rangle=\\begin{pmatrix}1\\\\0\\end{pmatrix},\\quad|1\\rangle=\\begin{pmatrix}0\\\\1\\end{pmatrix} $$\n",
        "\n",
        "- $X$-basis\n",
        "$X|+\\rangle=+|+\\rangle, X|-\\rangle=-|-\\rangle$\n",
        "$$ |+\\rangle=\\frac{1}{\\sqrt{2}}(|0\\rangle+|1\\rangle),|-\\rangle=\\frac{1}{\\sqrt{2}}(|0\\rangle-|1\\rangle), $$\n",
        "\n",
        "- 1-qubit operators \n",
        "$$X=\\begin{pmatrix}0&1\\\\1&0\\end{pmatrix},\\quad Y=\\begin{pmatrix}0&-i\\\\i&0\\end{pmatrix},\\quad Z=\\begin{pmatrix}1&0\\\\0&-1\\end{pmatrix}$$\n",
        "\n",
        "- 2-qubit operator \n",
        "$\\text{CNOT}=|0\\rangle\\langle0|\\otimes I+|1\\rangle\\langle1|\\otimes X$. \n",
        "\n",
        "The gate set $\\{X,Y,Z,CNOT\\}$ is a universal gate set; any unitary operator can be approximated by those operators."
      ],
      "metadata": {
        "id": "i4x-KkjcTsmG"
      }
    },
    {
      "cell_type": "markdown",
      "source": [
        "Other useful operators\n",
        "- Hadamard gate $H=\\frac{1}{\\sqrt{2}}\\begin{pmatrix}1&1\\\\1&-1\\end{pmatrix}$\n",
        "- Rotation gates $e^{-i\\alpha X/2},e^{-i\\alpha Y/2},e^{-i\\alpha Z/2}$"
      ],
      "metadata": {
        "id": "hOyJQhOIW8FY"
      }
    },
    {
      "cell_type": "markdown",
      "source": [
        "The Initial state of the default qubit is $|0\\rangle$. This can be conformed by the following circuit and measurment. "
      ],
      "metadata": {
        "id": "p-ubegw3XxnC"
      }
    },
    {
      "cell_type": "code",
      "source": [
        "n_qubit = 1\n",
        "qr = QuantumRegister(n_qubit)\n",
        "cr = ClassicalRegister(n_qubit) #classical register to store resulting bits\n",
        "qc = QuantumCircuit(qr,cr) #quantum circuit with quantum and classical registers\n",
        "\n",
        "qc.draw()"
      ],
      "metadata": {
        "colab": {
          "base_uri": "https://localhost:8080/",
          "height": 94
        },
        "id": "T6-Wzs8ZXpsc",
        "outputId": "5cb4d4cd-d5e0-4a3e-e504-3504bee2abf4"
      },
      "execution_count": 4,
      "outputs": [
        {
          "output_type": "execute_result",
          "data": {
            "text/plain": [
              "      \n",
              "  q0: \n",
              "      \n",
              "c0: 1/\n",
              "      "
            ],
            "text/html": [
              "<pre style=\"word-wrap: normal;white-space: pre;background: #fff0;line-height: 1.1;font-family: &quot;Courier New&quot;,Courier,monospace\">      \n",
              "  q0: \n",
              "      \n",
              "c0: 1/\n",
              "      </pre>"
            ]
          },
          "metadata": {},
          "execution_count": 4
        }
      ]
    },
    {
      "cell_type": "code",
      "source": [
        "qc.measure(qr,cr)\n",
        "\n",
        "# shots is number of execution\n",
        "shots=100\n",
        "\n",
        "# execute the circuit\n",
        "job = execute(qc, simulator, shots=1) \n",
        "\n",
        "# get a result\n",
        "result = job.result() \n",
        "\n",
        "# get counts to obtain each bit string\n",
        "counts = result.get_counts(qc) \n",
        "\n",
        "# plot histogram\n",
        "plot_histogram(counts) "
      ],
      "metadata": {
        "colab": {
          "base_uri": "https://localhost:8080/",
          "height": 449
        },
        "id": "huvmIrIqYc6y",
        "outputId": "8d7277f9-32b8-48a8-a18b-d325aad6b0f4"
      },
      "execution_count": 5,
      "outputs": [
        {
          "output_type": "execute_result",
          "data": {
            "text/plain": [
              "<Figure size 700x500 with 1 Axes>"
            ],
            "image/png": "[encoded data removed]"
          },
          "metadata": {},
          "execution_count": 5
        }
      ]
    },
    {
      "cell_type": "markdown",
      "source": [
        "Draw a quantum circuit consisting of two qubits, an Hadamard gate and a CNOT.\n",
        "\n",
        "The follwoing circuits generates a Bell state $|\\Phi^+\\rangle=\\frac{1}{\\sqrt{2}}(|00\\rangle+|11\\rangle)$.\n",
        "\n",
        "$|\\Phi^+\\rangle$ is practucally important for Quantum Teleportation [(code)](https://colab.research.google.com/drive/1WZUMd1tbouOwmXCn8txoJMOXG8TUisau?usp=sharing)"
      ],
      "metadata": {
        "id": "fIZTux0xXF9E"
      }
    },
    {
      "cell_type": "code",
      "source": [
        "n_qubit = 2\n",
        "qr = QuantumRegister(n_qubit)\n",
        "cr = ClassicalRegister(n_qubit) \n",
        "qc_bell = QuantumCircuit(qr,cr) \n",
        "\n",
        "qc_bell.h(qr[0])\n",
        "qc_bell.cx(qr[0],qr[1])\n",
        "\n",
        "qc_bell.draw()"
      ],
      "metadata": {
        "colab": {
          "base_uri": "https://localhost:8080/",
          "height": 125
        },
        "id": "qwdpeTz6V_rt",
        "outputId": "7f80657a-6aa4-40af-8d09-4aea5a5831c6"
      },
      "execution_count": 6,
      "outputs": [
        {
          "output_type": "execute_result",
          "data": {
            "text/plain": [
              "      ┌───┐     \n",
              "q2_0: ┤ H ├──■──\n",
              "      └───┘┌─┴─┐\n",
              "q2_1: ─────┤ X ├\n",
              "           └───┘\n",
              "c1: 2/══════════\n",
              "                "
            ],
            "text/html": [
              "<pre style=\"word-wrap: normal;white-space: pre;background: #fff0;line-height: 1.1;font-family: &quot;Courier New&quot;,Courier,monospace\">      ┌───┐     \n",
              "q2_0: ┤ H ├──■──\n",
              "      └───┘┌─┴─┐\n",
              "q2_1: ─────┤ X ├\n",
              "           └───┘\n",
              "c1: 2/══════════\n",
              "                </pre>"
            ]
          },
          "metadata": {},
          "execution_count": 6
        }
      ]
    },
    {
      "cell_type": "markdown",
      "source": [
        "One will obtain $00$ and $11$ with the same probanbility. "
      ],
      "metadata": {
        "id": "KTDuRqobcG1p"
      }
    },
    {
      "cell_type": "code",
      "source": [
        "qc_bell.measure(qr,cr)\n",
        "\n",
        "\n",
        "# execute the circuit\n",
        "job = execute(qc_bell, simulator, shots=1000) \n",
        "\n",
        "# get a result\n",
        "result = job.result() \n",
        "\n",
        "# get counts to obtain each bit string\n",
        "counts = result.get_counts(qc_bell) \n",
        "\n",
        "# plot histogram\n",
        "plot_histogram(counts) "
      ],
      "metadata": {
        "colab": {
          "base_uri": "https://localhost:8080/",
          "height": 331
        },
        "id": "u8BzYkZ7cV_I",
        "outputId": "40307b4b-b0e3-43cd-ea5e-2df9235f905a"
      },
      "execution_count": null,
      "outputs": [
        {
          "output_type": "execute_result",
          "data": {
            "text/plain": [
              "<Figure size 504x360 with 1 Axes>"
            ],
            "image/png": "[encoded data removed]"
          },
          "metadata": {},
          "execution_count": 10
        }
      ]
    },
    {
      "cell_type": "markdown",
      "source": [
        "One can confirm this is indeed an maximally entangled state, using the state_vector simulator.\n",
        "\n",
        "We compute the entanglement entropy $S=-Tr(\\rho_1\\log\\rho_1)$, where $\\rho_1=Tr_0\\rho$ is the reduced densicty matrix, obtained by tracing out the first qubit from $\\rho=|\\Phi^+\\rangle\\langle\\Phi^+|=\\frac{|00\\rangle\\langle00|+|11\\rangle\\langle00|+|00\\rangle\\langle11|+|11\\rangle\\langle11|}{2}$.\n",
        "\n",
        "By tracing out over the frist qubit we obtain\n",
        "$$\\rho_1=Tr_0\\rho=\\frac{|0\\rangle\\langle0|+|1\\rangle\\langle1|}{2}=\\begin{pmatrix}0.5&0\\\\0&0.5\\end{pmatrix}\\\\\n",
        "S=-Tr(\\rho_1\\log\\rho_1)=\\log2$$\n",
        "\n",
        "For a two qubit stste, the maximal value of the entanglement entropy is $\\log_{10}2=0.3\\cdots$. "
      ],
      "metadata": {
        "id": "nEgDknqTfP3g"
      }
    },
    {
      "cell_type": "code",
      "source": [
        "n_qubit = 2\n",
        "qr = QuantumRegister(n_qubit)\n",
        "qc_bell = QuantumCircuit(qr) \n",
        "\n",
        "qc_bell.h(qr[0])\n",
        "qc_bell.cx(qr[0],qr[1])\n",
        "\n",
        "backend = Aer.get_backend('aer_simulator_statevector')\n",
        "qc_bell = transpile(qc_bell, backend)\n",
        "qc_bell.save_statevector()\n",
        "\n",
        "job = backend.run(qc_bell)\n",
        "statevector = job.result().get_statevector(qc_bell)\n",
        "\n",
        "reduced_state = partial_trace(statevector, [1])\n",
        "print(reduced_state)\n",
        "\n",
        "print(\"Entanglement entropy is\",entropy(reduced_state, base=10)) # defalt function is entropy(state, base=2)\n"
      ],
      "metadata": {
        "colab": {
          "base_uri": "https://localhost:8080/"
        },
        "id": "UpXCXFpafebW",
        "outputId": "51fd5b32-ba09-4ebc-a204-b16df8fd1bd5"
      },
      "execution_count": null,
      "outputs": [
        {
          "output_type": "stream",
          "name": "stdout",
          "text": [
            "DensityMatrix([[0.5+0.j, 0. +0.j],\n",
            "               [0. +0.j, 0.5+0.j]],\n",
            "              dims=(2,))\n",
            "Entanglement entropy is 0.30102999566398114\n"
          ]
        }
      ]
    },
    {
      "cell_type": "markdown",
      "source": [
        "# Implementing the transverse Ising model (Static Hamiltonian)"
      ],
      "metadata": {
        "id": "ar--SJjE-0S2"
      }
    },
    {
      "cell_type": "markdown",
      "source": [
        "In what follows we demonstrate quantum simulation of Ising model in two ways. \n",
        "We first consider time-evolution with the **static Hamiltonian**. \n",
        "\n",
        "You can learn implementation of a time-ordered integral, Suzuki-Trotter decomposition, dynamics after a quench, computation of magnetization.  \n",
        " "
      ],
      "metadata": {
        "id": "FXYKur6xuwdV"
      }
    },
    {
      "cell_type": "markdown",
      "source": [
        "The Hamiltonian is\n",
        "$$\n",
        "H=H_{ZZ}+H_{X},\n",
        "$$\n",
        "where\n",
        "$$H_{ZZ}=-J\\sum_{j=0}^{N-2}Z_{j}Z_{j+1},\\quad  H_{X}=-h\\sum_{j=0}^{N-1}X_{j}$$\n",
        "\n",
        "We use $|0\\cdots0\\rangle$ as the initial satte and consider time evolution of magnetization $\\frac{1}{N}\\sum_{j=0}^{N-1}Z_{j}$\n",
        "$$m(t)=\\frac{1}{N}\\langle00\\cdots0|e^{i H t}\\,\\sum_{j=0}^{N-1}Z_{j}\\, e^{-i H t}|00\\cdots0\\rangle.$$\n"
      ],
      "metadata": {
        "id": "TX9eLLIP8NEj"
      }
    },
    {
      "cell_type": "markdown",
      "source": [
        "The time-evolution of the initial state is given by the time-ordered integral\n",
        "$$|\\psi(t)\\rangle=\\mathcal{T}e^{-i\\int_0^tHdt}|0\\cdots0\\rangle.$$\n",
        "It is important that $Z$ and $X$ do not commute $[Z,X]\\neq0$.\n",
        "\n",
        "\n",
        "We approximate the time-volution by discritizing the time-step $\\Delta t$ in the following way\n",
        "$$|\\psi(k\\Delta t)\\rangle=e^{-i\\Delta t H_{XX}}e^{-i\\Delta t H_{Z}}|\\psi((k-1)\\Delta t)\\rangle.$$ \n",
        "\n",
        "This technique is called Suzuki-Trotter decomposition and $\\Delta t$ is called a Suzuki-Trotter step. "
      ],
      "metadata": {
        "id": "DIhVnlzFtDey"
      }
    },
    {
      "cell_type": "markdown",
      "source": [
        "# Time-evolution using the $ZZ$-gates and $X$-gates"
      ],
      "metadata": {
        "id": "QPemCGcPrAuY"
      }
    },
    {
      "cell_type": "markdown",
      "source": [
        "### Step 1: Implement a Suzuki-Trotter step via elementary gates\n",
        "In general, $e^{i\\alpha Z_jZ_k}$ can be implemened by the folowing gate \n",
        "$$e^{i\\alpha Z_{j}Z_{k}}= CX_{jk}R_{Z,k}(2\\alpha)CX_{jk},$$\n",
        "where $CX_{jk}$ is the CNOT gate $$CX_{jk}=|0\\rangle_j\\langle0|\\otimes I+|1\\rangle_j\\langle1|\\otimes X_k$$\n",
        "and $R_{Z,k}(2\\alpha)=e^{i\\alpha Z_k}$ is the rotation about the $z$-axis at $k$.  \n",
        "\n",
        "Therefore we can implement the $H_{ZZ}$ term by \n",
        "$$e^{-iH_{ZZ}\\Delta t}=\\prod_{j=0}^{N-2}CX_{j,j+1}R_{Z,j+1 }(-2J\\Delta t)CX_{j,j+1}.$$\n",
        "\n",
        "Implementation of $H_X$ is straightforward\n",
        "$$e^{-iH_{X}\\Delta t}=\\prod_{j=0}^{N-1}R_{X,j }(-2h\\Delta t).$$"
      ],
      "metadata": {
        "id": "9LXcXwAVsoeD"
      }
    },
    {
      "cell_type": "markdown",
      "source": [
        "Draw the minimal quantum circuit"
      ],
      "metadata": {
        "id": "KTVrV_c7Z8nf"
      }
    },
    {
      "cell_type": "code",
      "source": [
        "n_site=2\n",
        "qr = QuantumRegister(n_site)\n",
        "cr = ClassicalRegister(n_site)\n",
        "\n",
        "### make main quantum circuit\n",
        "qc = QuantumCircuit(qr,cr)\n",
        "\n",
        "###make measurement circuit\n",
        "qc_meas = QuantumCircuit(qr,cr)\n",
        "qc_meas.measure(qr,cr)\n",
        "\n",
        "J=1\n",
        "h=1\n",
        "dt=0.1\n",
        "###exp(-iH_{ZZ}\\Delta t)\n",
        "for i in range(n_site-1):\n",
        "    \n",
        "    qc.cx(qr[i],qr[i+1])\n",
        "    qc.rz(-2*J*dt, qr[i+1])\n",
        "    qc.cx(qr[i],qr[i+1])\n",
        "\n",
        "###exp(-iH_{X}\\Delta t)    \n",
        "for i in range(n_site):\n",
        "    qc.rx(-2*h*dt,qr[i])\n",
        "\n",
        "qc.draw()"
      ],
      "metadata": {
        "colab": {
          "base_uri": "https://localhost:8080/",
          "height": 125
        },
        "id": "fP6oRVTYy6vN",
        "outputId": "af181aa7-d771-471e-b8af-7618047a9ae3"
      },
      "execution_count": 13,
      "outputs": [
        {
          "output_type": "execute_result",
          "data": {
            "text/plain": [
              "                              ┌──────────┐\n",
              "q507_0: ──■────────────────■──┤ Rx(-0.2) ├\n",
              "        ┌─┴─┐┌──────────┐┌─┴─┐├──────────┤\n",
              "q507_1: ┤ X ├┤ Rz(-0.2) ├┤ X ├┤ Rx(-0.2) ├\n",
              "        └───┘└──────────┘└───┘└──────────┘\n",
              "  c6: 2/══════════════════════════════════\n",
              "                                          "
            ],
            "text/html": [
              "<pre style=\"word-wrap: normal;white-space: pre;background: #fff0;line-height: 1.1;font-family: &quot;Courier New&quot;,Courier,monospace\">                              ┌──────────┐\n",
              "q507_0: ──■────────────────■──┤ Rx(-0.2) ├\n",
              "        ┌─┴─┐┌──────────┐┌─┴─┐├──────────┤\n",
              "q507_1: ┤ X ├┤ Rz(-0.2) ├┤ X ├┤ Rx(-0.2) ├\n",
              "        └───┘└──────────┘└───┘└──────────┘\n",
              "  c6: 2/══════════════════════════════════\n",
              "                                          </pre>"
            ]
          },
          "metadata": {},
          "execution_count": 13
        }
      ]
    },
    {
      "cell_type": "markdown",
      "source": [
        "### Step 2: Measurement of the magnetization\n",
        "\n",
        "We measure $Z_j~(j=0,\\cdots,N-1)$ and obtain the bitstring $b=b_0\\cdots b_{N-1}$, where each $b_j$ is either 0 or 1. \n",
        "\n",
        "$b_j=0$ means that +1 eigenvalue of $Z_j$ is obtained and $b_j=1$ means that -1 eigenvalue of $Z_j$ is obtained. \n",
        "\n",
        "To compute $m(t)=\\frac{1}{N}\\langle\\psi(t)|\\sum_{j=0}^{N-1}Z_j|\\psi(t)\\rangle$, we conbert the bitstrings as follows \n",
        "$$m(t)=\\frac{1}{N}\\langle\\psi(t)|\\sum_{j=0}^{N-1}Z_{j}|\\psi(t)\\rangle\n",
        "\\\\\n",
        "= \n",
        "\\frac{1}{N}\\sum_{j=0}^{N-1}\\sum_{b_{0},\\dots,b_{N-1}}(-)^{b_{j}}|\\langle b_{0}\\cdots b_{N-1}|\\psi(t)\\rangle|^{2}\\\\\n",
        "=\\frac{1}{N}\\sum_{b_{0},\\dots,b_{N-1}}\\sum_{j=0}^{N-1}(-)^{b_{j}} \\frac{\\text{count}(b_{0}\\cdots b_{N-1})}{n_{\\text{shots}}}.\n",
        "$$\n",
        "where count($b_{0}\\cdots b_{N-1}$) counts the number of times a bitstring $b_{0}\\cdots b_{N-1}\\in\\{0,1\\}^N$ apperes.  "
      ],
      "metadata": {
        "id": "bouTvIUM1Iqr"
      }
    },
    {
      "cell_type": "code",
      "source": [
        "### parameters\n",
        "n_site = 4\n",
        "J = 1 # antiferromagnetic phase if J>0 otherwise ferromagnetic phase\n",
        "h = 4 #If J>>h, the antiferromagnetic phase is dominant. If J<<h, quantum paramagnetic phase is dominant. \n",
        "\n",
        "step_max = 100\n",
        "t_max = 5\n",
        "dt = t_max/step_max\n",
        "\n",
        "### simulator and shots\n",
        "simulator = Aer.get_backend('qasm_simulator')\n",
        "n_shots = 10000\n",
        "\n",
        "### quantum registers\n",
        "qr = QuantumRegister(n_site)\n",
        "cr = ClassicalRegister(n_site)\n",
        "\n",
        "### make main quantum circuit\n",
        "qc = QuantumCircuit(qr,cr)\n",
        "\n",
        "###make measurement circuit\n",
        "qc_meas = QuantumCircuit(qr,cr)\n",
        "qc_meas.measure(qr,cr)\n",
        "\n",
        "time_list= []  #list of time\n",
        "mag_list =[] #list of magnetization\n",
        "\n",
        "### Suzuki-Trotter steps\n",
        "for step in range(1,step_max+1):\n",
        "    #act gates to implement one Suzuki-Trotter step\n",
        "    ###exp(-iH_{ZZ}\\Delta t)\n",
        "    for i in range(n_site-1):\n",
        "        \n",
        "        qc.cx(qr[i],qr[i+1])\n",
        "        qc.rz(-2*J*dt, qr[i+1])\n",
        "        qc.cx(qr[i],qr[i+1])\n",
        "\n",
        "    ###exp(-iH_{X}\\Delta t)    \n",
        "    for i in range(n_site):\n",
        "        qc.rx(-2*h*dt,qr[i])\n",
        "        \n",
        "    #combine the main circuit and the measurement circuit to have the total circuit\n",
        "    qc_total = qc.compose(qc_meas)   \n",
        "    \n",
        "    #execute circuit\n",
        "    job = execute(qc_total, simulator, shots=n_shots) #execute\n",
        "    result = job.result() # obtain results\n",
        "    counts = result.get_counts(qc_total) \n",
        "    \n",
        "    #calculate magnetization\n",
        "    mag = 0\n",
        "    for bit_string, count in counts.items():\n",
        "        \n",
        "        obs = 0\n",
        "        for j in range(n_site):\n",
        "            obs += (-1)**int(bit_string[j])\n",
        "        mag += obs*count/n_shots/n_site\n",
        "        \n",
        "    \n",
        "    time_list.append(dt*step) \n",
        "    mag_list.append(mag) "
      ],
      "metadata": {
        "id": "jGegq56o5Uc3"
      },
      "execution_count": 14,
      "outputs": []
    },
    {
      "cell_type": "code",
      "source": [
        "plt.plot(time_list, mag_list,label='Qiskit')\n",
        "plt.title('Average magnetization')\n",
        "plt.xlabel('time')\n",
        "plt.legend()\n",
        "plt.show()"
      ],
      "metadata": {
        "colab": {
          "base_uri": "https://localhost:8080/",
          "height": 472
        },
        "id": "1D7qvu_40pnq",
        "outputId": "5dfc5581-1093-4534-a0dd-6b265f1bb65c"
      },
      "execution_count": 16,
      "outputs": [
        {
          "output_type": "display_data",
          "data": {
            "text/plain": [
              "<Figure size 640x480 with 1 Axes>"
            ],
            "image/png": "[encoded data removed]"
          },
          "metadata": {}
        }
      ]
    },
    {
      "cell_type": "markdown",
      "source": [
        "# Implementing the transverse Ising model (Time-dependent case)"
      ],
      "metadata": {
        "id": "AkcUimUqFRko"
      }
    },
    {
      "cell_type": "markdown",
      "source": [
        "Now we consider a **time-dependent case**, where the Hamiltonian is time-dependent. \n",
        "\n",
        "You can learn simulation of phase transition and quantum adiabatic algorithm (QAA) and quantum annealing. \n",
        "\n",
        "For practical appliactions to optimization problems using D-wave quantum annealer, please see \n",
        "\n",
        "K. Ikeda, Y. Nakamura, T. Humble, \n",
        "[Application of Quantum Annealing to Nurse Scheduling Problem](https://www.nature.com/articles/s41598-019-49172-3), which is recorded in [D-wave user handbook](https://docs.dwavesys.com/docs/latest/handbook_problems.html). The code is available [here](https://github.com/dwave-examples/nurse-scheduling)."
      ],
      "metadata": {
        "id": "L9bBY0kxFauC"
      }
    },
    {
      "cell_type": "markdown",
      "source": [
        "We consider the time-dependent Ising Hamiltonian with longitudinal field and transverse field. \n",
        "\n",
        "The Hamiltonian is\n",
        "$$\n",
        "H(t)=tH_{ZZ}+tH_Z+(1-t)H_{X},~t\\in[0,1]\n",
        "$$\n",
        "where\n",
        "$$H_{ZZ}=-J\\sum_{j=0}^{N-2}Z_{j}Z_{j+1},\\quad H_{Z}=-g\\sum_{j=0}^{N-1}Z_{j},\\quad  H_{X}=-h\\sum_{j=0}^{N-1}X_{j}$$\n",
        "\n",
        "- The initial state is the quantum paramagnetic phase $\\bigotimes_{j=0}^{N-1}|+\\rangle$, which is the ground state of $H_X$. \n",
        "\n",
        "- The system evolves gradually from $H_X$ to $H_{ZZ}+H_Z$. \n",
        "\n",
        "- At end of computation, the system transitions into an anti-ferromagnetic phase if $J>0$ and a ferromagnetic phase if $J<0$, which are the ground state of $H_{ZZ}+H_Z$.\n",
        "\n",
        "- Time evolution of a state is described by the equation $$|\\psi((k+1)\\Delta t)\\rangle=e^{-i H(k\\Delta t)\\Delta t}|\\psi(k\\Delta t)\\rangle$$"
      ],
      "metadata": {
        "id": "YjkORfk78WDE"
      }
    },
    {
      "cell_type": "markdown",
      "source": [
        "### Step 1: Generate the initial satte $\\bigotimes_{j=0}^{N-1}|+\\rangle_j$ (quantum paramagnetic phase)"
      ],
      "metadata": {
        "id": "bFwXqbhJDdiy"
      }
    },
    {
      "cell_type": "code",
      "source": [
        "n_site = 8\n",
        "\n",
        "### quantum registers\n",
        "qr = QuantumRegister(n_site)\n",
        "cr = ClassicalRegister(n_site)\n",
        "\n",
        "### make main quantum circuit\n",
        "qc = QuantumCircuit(qr,cr)\n",
        "\n",
        "###make measurement circuit\n",
        "qc_meas = QuantumCircuit(qr,cr)\n",
        "qc_meas.measure(qr,cr)\n",
        "\n",
        "# generate the quantum paramagnetic phase\n",
        "for i in range(n_site):\n",
        "  qc.h(qr[i])\n",
        "\n",
        "qc.draw()\n"
      ],
      "metadata": {
        "colab": {
          "base_uri": "https://localhost:8080/",
          "height": 310
        },
        "id": "iS2DRDgFDpkZ",
        "outputId": "03942467-d3cd-46fd-979a-0dcedad59f8f"
      },
      "execution_count": 9,
      "outputs": [
        {
          "output_type": "execute_result",
          "data": {
            "text/plain": [
              "      ┌───┐\n",
              "q5_0: ┤ H ├\n",
              "      ├───┤\n",
              "q5_1: ┤ H ├\n",
              "      ├───┤\n",
              "q5_2: ┤ H ├\n",
              "      ├───┤\n",
              "q5_3: ┤ H ├\n",
              "      ├───┤\n",
              "q5_4: ┤ H ├\n",
              "      ├───┤\n",
              "q5_5: ┤ H ├\n",
              "      ├───┤\n",
              "q5_6: ┤ H ├\n",
              "      ├───┤\n",
              "q5_7: ┤ H ├\n",
              "      └───┘\n",
              "c4: 8/═════\n",
              "           "
            ],
            "text/html": [
              "<pre style=\"word-wrap: normal;white-space: pre;background: #fff0;line-height: 1.1;font-family: &quot;Courier New&quot;,Courier,monospace\">      ┌───┐\n",
              "q5_0: ┤ H ├\n",
              "      ├───┤\n",
              "q5_1: ┤ H ├\n",
              "      ├───┤\n",
              "q5_2: ┤ H ├\n",
              "      ├───┤\n",
              "q5_3: ┤ H ├\n",
              "      ├───┤\n",
              "q5_4: ┤ H ├\n",
              "      ├───┤\n",
              "q5_5: ┤ H ├\n",
              "      ├───┤\n",
              "q5_6: ┤ H ├\n",
              "      ├───┤\n",
              "q5_7: ┤ H ├\n",
              "      └───┘\n",
              "c4: 8/═════\n",
              "           </pre>"
            ]
          },
          "metadata": {},
          "execution_count": 9
        }
      ]
    },
    {
      "cell_type": "markdown",
      "source": [
        "### Step 2: Implement time-dependent Hamiltonian"
      ],
      "metadata": {
        "id": "rZj4r-W3EEMg"
      }
    },
    {
      "cell_type": "markdown",
      "source": [
        "We discretize the time as $t=k\\Delta t,~k\\in\\{0,1,\\cdots,1/\\Delta t\\}$. \n",
        "\n",
        "Then we can implement $k\\Delta tH_{ZZ}, k\\Delta tH_{Z}, (1-k\\Delta t)H_{X}$ as \n",
        "$$e^{-i(H_{ZZ}k\\Delta t)\\Delta t}=\\prod_{j=0}^{N-2}CX_{j,j+1}R_{Z,j+1 }(-2Jk\\Delta t^2)CX_{j,j+1}.$$\n",
        "$$e^{-i(H_{Z}k\\Delta t)\\Delta t}=\\prod_{j=0}^{N-1}R_{Z,j }(-2gk\\Delta t^2).$$\n",
        "$$e^{-i(H_{X}(1-k\\Delta t))\\Delta}=\\prod_{j=0}^{N-1}R_{X,j }(-2h(1-k\\Delta t)\\Delta t).$$"
      ],
      "metadata": {
        "id": "GO9fis7q-z4X"
      }
    },
    {
      "cell_type": "code",
      "source": [
        "### parameters\n",
        "n_site = 8\n",
        "J = 3\n",
        "h = 1\n",
        "g=1.5\n",
        "\n",
        "step_max = 100\n",
        "t_max = 1\n",
        "dt = t_max/step_max\n",
        "\n",
        "### simulator and shots\n",
        "simulator = Aer.get_backend('qasm_simulator')\n",
        "n_shots = 10000\n",
        "\n",
        "### quantum registers\n",
        "qr = QuantumRegister(n_site)\n",
        "cr = ClassicalRegister(n_site)\n",
        "\n",
        "### make main quantum circuit\n",
        "qc = QuantumCircuit(qr,cr)\n",
        "\n",
        "###make measurement circuit\n",
        "qc_meas = QuantumCircuit(qr,cr)\n",
        "qc_meas.measure(qr,cr)\n",
        "\n",
        "time_list_qiskit = [] # list of time\n",
        "mag_list_qiskit = [] #list of magnetization\n",
        "\n",
        "# generate the initial quantum paramagnetic phase\n",
        "for i in range(n_site):\n",
        "  qc.h(qr[i])\n",
        "\n",
        "### Suzuki-Trotter steps\n",
        "for step in range(1,step_max+1):\n",
        "    #acting gates to implement one Suzuki-Trotter step\n",
        "    ###exp(-i(H_{ZZ}k\\Delta t)\\Delta t)\n",
        "    for i in range(n_site-1):\n",
        "        \n",
        "        qc.cx(qr[i],qr[i+1])\n",
        "        qc.rz(-2*J*step*dt**2, qr[i+1])\n",
        "        qc.cx(qr[i],qr[i+1])\n",
        "\n",
        "    ###exp(-i(H_{Z}k\\Delta t)\\Delta t)    \n",
        "    for i in range(n_site):\n",
        "        qc.rz(-2*g*step*dt**2,qr[i])\n",
        "\n",
        "    ###exp(-i(H_{X}(1-k\\Delta t))\\Delta t)    \n",
        "    for i in range(n_site):\n",
        "        qc.rx(-2*h*(1-step*dt)*dt,qr[i])\n",
        "\n",
        "\n",
        "        \n",
        "    #combine the main circuit and the measurement circuit to have the total circuit\n",
        "    qc_total = qc.compose(qc_meas)   \n",
        "    \n",
        "    #execute circuit\n",
        "    job = execute(qc_total, simulator, shots=n_shots) #execute\n",
        "    result = job.result() # obtain results\n",
        "    counts = result.get_counts(qc_total) \n",
        "    \n",
        "    #calculate magnetization\n",
        "    mag = 0\n",
        "    for bit_string, count in counts.items():\n",
        "        \n",
        "        obs = 0\n",
        "        for j in range(n_site):\n",
        "            obs += (-1)**int(bit_string[j])\n",
        "        mag += obs*count/n_shots/n_site\n",
        "        \n",
        "    \n",
        "    time_list_qiskit.append(dt*step) \n",
        "    mag_list_qiskit.append(mag) "
      ],
      "metadata": {
        "id": "umErblLWHXlj"
      },
      "execution_count": 10,
      "outputs": []
    },
    {
      "cell_type": "markdown",
      "source": [
        "Plot time-evolution."
      ],
      "metadata": {
        "id": "DVoj7WTtIpQ-"
      }
    },
    {
      "cell_type": "code",
      "source": [
        "plt.plot(time_list_qiskit, mag_list_qiskit, \"-\",label='Qiskit')\n",
        "plt.title('Average magnetization')\n",
        "plt.xlabel('time')\n",
        "plt.legend()\n",
        "plt.show()"
      ],
      "metadata": {
        "colab": {
          "base_uri": "https://localhost:8080/",
          "height": 472
        },
        "id": "zbyvyRcjA2ZM",
        "outputId": "082b168c-cc9a-4ca4-874d-7838cf05cecf"
      },
      "execution_count": 12,
      "outputs": [
        {
          "output_type": "display_data",
          "data": {
            "text/plain": [
              "<Figure size 640x480 with 1 Axes>"
            ],
            "image/png": "[encoded data removed]"
          },
          "metadata": {}
        }
      ]
    }
  ]
}